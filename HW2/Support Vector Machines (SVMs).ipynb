{
 "cells": [
  {
   "cell_type": "code",
   "execution_count": 1,
   "metadata": {},
   "outputs": [],
   "source": [
    "import numpy as np\n",
    "import pandas as pd\n",
    "import matplotlib.pyplot as plt\n",
    "import sklearn.svm as svm\n",
    "import seaborn as sb"
   ]
  },
  {
   "cell_type": "markdown",
   "metadata": {},
   "source": [
    "Necessary Data Imports for Question 3:"
   ]
  },
  {
   "cell_type": "code",
   "execution_count": 2,
   "metadata": {},
   "outputs": [],
   "source": [
    "train_features = pd.read_csv('question3/q3_train_features.csv', header = None).loc[:, 1:43]\n",
    "test_features = pd.read_csv('question3/q3_test_features.csv', header = None).loc[:, 1:43].to_numpy()\n",
    "train_binary_labels = pd.read_csv('question3/q3_train_binary_labels.csv', header = None)[1].to_numpy()\n",
    "test_binary_labels = pd.read_csv('question3/q3_test_binary_labels.csv', header = None)[1].to_numpy()\n",
    "train_multiclass_labels = pd.read_csv('question3/q3_train_multiclass_labels.csv', header = None)[1].to_numpy()\n",
    "test_multiclass_labels = pd.read_csv('question3/q3_test_multiclass_labels.csv', header = None)[1].to_numpy()"
   ]
  },
  {
   "cell_type": "markdown",
   "metadata": {},
   "source": [
    "\"train_linear_binary_SVM\" returns a trained linear SVM model based on a c value given as an input (binary model)"
   ]
  },
  {
   "cell_type": "code",
   "execution_count": 41,
   "metadata": {},
   "outputs": [],
   "source": [
    "def train_linear_binary_SVM(train_feature_set, train_labels, c_value):\n",
    "    model = svm.LinearSVC(C = c_value, max_iter = 2000000, random_state = 0)\n",
    "    model.fit(train_feature_set, train_labels)\n",
    "    return model"
   ]
  },
  {
   "cell_type": "code",
   "execution_count": 28,
   "metadata": {},
   "outputs": [],
   "source": [
    "def evaluate_metrics(valid_set, valid_labels, model):\n",
    "    predictions = model.predict(valid_set)\n",
    "    tp, fp, fn, tn = 0, 0, 0, 0\n",
    "    for idx in range(predictions.size):\n",
    "        if valid_labels[idx] == 1:\n",
    "            if valid_labels[idx] == predictions[idx]:\n",
    "                tp += 1\n",
    "            else:\n",
    "                fn += 1\n",
    "        else:\n",
    "            if valid_labels[idx] == predictions[idx]:\n",
    "                tn += 1\n",
    "            else:\n",
    "                fp += 1\n",
    "    if tp + fp + tn + fn == 0:\n",
    "        accuracy = 0\n",
    "    else:\n",
    "        accuracy = (tp + tn) / (tp + fp + tn + fn)\n",
    "    if tp + fp == 0:\n",
    "        precision = 0\n",
    "        fdr = 0\n",
    "    else:\n",
    "        precision = tp / (tp + fp)\n",
    "        fdr = fp / (tp + fp)\n",
    "    if tp + fn == 0:\n",
    "        recall = 0\n",
    "    else:\n",
    "        recall = tp / (tp + fn)\n",
    "    if tn + fn == 0:\n",
    "        npv = 0\n",
    "    else:\n",
    "        npv = tn / (tn + fn)\n",
    "    if fp + tn == 0:\n",
    "        fpr = 0\n",
    "    else:\n",
    "        fpr = fp / (fp + tn)\n",
    "    if precision +  recall == 0:\n",
    "        f1 = 0\n",
    "        f2 = 0\n",
    "    else:\n",
    "        f1 = (2 * precision * recall) / (precision + recall)\n",
    "        f2 = (5 * precision * recall) / (4 * precision + recall)\n",
    "    return [[tp, fp, fn, tn], accuracy, precision, recall, npv, fpr, fdr, f1, f2]"
   ]
  },
  {
   "cell_type": "code",
   "execution_count": 32,
   "metadata": {},
   "outputs": [],
   "source": [
    "def evaluate_linear_binary_SVM(train_feature_set, train_label_set, c):\n",
    "    folds = []\n",
    "    label_folds = []\n",
    "    run_features = []\n",
    "    run_labels = []\n",
    "    models = []\n",
    "    idx = 0\n",
    "    metrics = []\n",
    "    for fold_no in range(5):\n",
    "        folds.append(np.array(train_feature_set[idx:(idx + (train_feature_set.shape[0] // 5))]))\n",
    "        label_folds.append(np.array(train_label_set[idx:(idx + (train_label_set.shape[0] // 5))]))\n",
    "        run_features.append(np.concatenate((train_feature_set[0:idx], train_feature_set[idx + (train_feature_set.shape[0] // 5):])))\n",
    "        run_labels.append(np.concatenate((train_label_set[0:idx], train_label_set[idx + (train_label_set.shape[0] // 5):])))\n",
    "        models.append(train_linear_binary_SVM(run_features[fold_no], run_labels[fold_no], c))\n",
    "        metrics.append(evaluate_metrics(folds[fold_no], label_folds[fold_no], models[fold_no]))\n",
    "        idx += (train_feature_set.shape[0] // 5)\n",
    "    return metrics"
   ]
  },
  {
   "cell_type": "code",
   "execution_count": 178,
   "metadata": {},
   "outputs": [],
   "source": [
    "def analyze_metric_values(metric_set):\n",
    "    accuracy_sum = 0\n",
    "    precision_sum = 0\n",
    "    recall_sum = 0\n",
    "    npv_sum = 0\n",
    "    fpr_sum = 0\n",
    "    fdr_sum = 0\n",
    "    f1_sum = 0\n",
    "    f2_sum = 0\n",
    "    matrix = np.zeros(4)\n",
    "    for metrics in metric_set:\n",
    "        accuracy_sum += metrics[1]\n",
    "        precision_sum += metrics[2]\n",
    "        recall_sum += metrics[3]\n",
    "        npv_sum += metrics[4]\n",
    "        fpr_sum += metrics[5]\n",
    "        fdr_sum += metrics[6]\n",
    "        f1_sum += metrics[7]\n",
    "        f2_sum += metrics[8]\n",
    "        matrix = np.add(matrix, metrics[0])\n",
    "    # Average accuracy\n",
    "    accuracy = accuracy_sum / 5\n",
    "    print('Accuracy: ' + str(accuracy))\n",
    "    # Precision\n",
    "    print('Macro Precision: ' + str(precision_sum / 5))\n",
    "    if matrix[0] + matrix[1] == 0:\n",
    "        print('Micro Precision: ' + str(0))\n",
    "    else:\n",
    "        print('Micro Precision: ' + str(matrix[0] / (matrix[0] + matrix[1])))\n",
    "    # Recall\n",
    "    print('Macro Recall: ' + str(recall_sum / 5))\n",
    "    if matrix[0] + matrix[2] == 0:\n",
    "        print('Micro Recall: ' + str(0))\n",
    "    else:\n",
    "        print('Micro Recall: ' + str(matrix[0] / (matrix[0] + matrix[2])))\n",
    "    # NPV\n",
    "    print('Macro NPV: ' + str(npv_sum / 5))\n",
    "    if matrix[2] + matrix[3] == 0:\n",
    "        print('Micro NPV: ' + str(0))\n",
    "    else:\n",
    "        print('Micro NPV: ' + str(matrix[3] / (matrix[2] + matrix[3])))\n",
    "    # FPR\n",
    "    print('Macro FPR: ' + str(fpr_sum / 5))\n",
    "    if matrix[1] + matrix[3] == 0:\n",
    "        print('Micro FPR: ' + str(0))\n",
    "    else:\n",
    "        print('Micro FPR: ' + str(matrix[1] / (matrix[1] + matrix[3])))\n",
    "    # FDR\n",
    "    print('Macro FDR: ' + str(fdr_sum / 5))\n",
    "    if matrix[0] + matrix[1] == 0:\n",
    "        print('Micro FDR: ' + str(0))\n",
    "    else:\n",
    "        print('Micro FDR: ' + str(matrix[1] / (matrix[0] + matrix[1])))\n",
    "    # F-Measures (for beta = 1 and beta = 2)\n",
    "    print('F1 Measure Value: ' + str(f1_sum / 5))\n",
    "    print('F2 Measure Value: ' + str(f2_sum / 5))\n",
    "    confusion_matrix = pd.DataFrame([[matrix[0], matrix[1]], [matrix[2], matrix[3]]], \n",
    "                                    columns = ['1', '0'], index = ['1', '0'])\n",
    "    sb.heatmap(confusion_matrix, annot = True)\n",
    "    plt.xlabel('Actual Value')\n",
    "    plt.ylabel('Predicted Value')\n",
    "    plt.show()\n",
    "    return [accuracy, recall_sum / 5, fpr_sum / 5]"
   ]
  },
  {
   "cell_type": "code",
   "execution_count": 179,
   "metadata": {},
   "outputs": [],
   "source": [
    "def tune_linear_SVM(train_feature_set, train_label_set):\n",
    "    c_set = (10**(-3), 10**(-2), 10**(-1), 1, 10**(1), 10**(2))\n",
    "    acc_values = []\n",
    "    recall_values = []\n",
    "    fpr_values = []\n",
    "    for c in c_set:\n",
    "        print('For C = ' + str(c))\n",
    "        metrics = evaluate_linear_binary_SVM(train_feature_set, train_label_set, c)\n",
    "        acc_roc = analyze_metric_values(metrics)\n",
    "        acc_values.append(acc_roc[0])\n",
    "        recall_values.append(acc_roc[1])\n",
    "        fpr_values.append(acc_roc[2])\n",
    "    return [acc_values, recall_values, fpr_values]"
   ]
  },
  {
   "cell_type": "code",
   "execution_count": 180,
   "metadata": {},
   "outputs": [],
   "source": [
    "def plot_results(results, param_name, param_set):\n",
    "    plt.bar(param_set, results)\n",
    "    plt.xlabel(param_name + ' values')\n",
    "    plt.ylabel('Accuracy Values')\n",
    "    plt.title('Accuracy vs ' + param_name + ' values obtained by 5-fold cross validation')\n",
    "    plt.show()\n",
    "    plt.clf()"
   ]
  },
  {
   "cell_type": "code",
   "execution_count": 201,
   "metadata": {},
   "outputs": [],
   "source": [
    "def test_linear_binary_model(train_feature_set, train_label_set, test_feature_set, test_label_set):\n",
    "    results = tune_linear_SVM(train_feature_set, train_label_set)\n",
    "    print(results)\n",
    "    plot_results(results[0], 'C', ('0.001', '0.01', '0.1', '1', '10', '100'))\n",
    "    c_set = (10**(-3), 10**(-2), 10**(-1), 1, 10, 100)\n",
    "    acc_auc_c = []\n",
    "    for idx in range(len(c_set)):\n",
    "        acc_auc_c.append((c_set[idx], results[1][idx] + results[2][idx], results[0][idx]))\n",
    "    acc_auc_c.sort(key=lambda tup: tup[1])\n",
    "    print(acc_auc_c)\n",
    "    print('Optimum C value: ' + str(acc_auc_c[len(acc_auc_c) - 1][0]), ', respective accuracy: ' + str(acc_auc_c[len(acc_auc_c) - 1][2]))\n",
    "    print('Slope of ROC curve for optimum c value: ' + str(acc_auc_c[len(acc_auc_c) - 1][1]))\n",
    "    model = train_linear_binary_SVM(train_feature_set, train_label_set, acc_auc_c[len(acc_auc_c) - 1][0])\n",
    "    metrics = evaluate_metrics(test_feature_set, test_label_set, model)\n",
    "    print('For the final model: ')\n",
    "    print('Accuracy: ' + str(metrics[1]))\n",
    "    print('Precision: ' + str(metrics[2]))\n",
    "    print('Recall: ' + str(metrics[3]))\n",
    "    print('NPV: ' + str(metrics[4]))\n",
    "    print('FPR: ' + str(metrics[5]))\n",
    "    print('FDR: ' + str(metrics[6]))\n",
    "    print('F1-Measure: ' + str(metrics[7]))\n",
    "    print('F2-Measure: ' + str(metrics[8]))\n",
    "    confusion_matrix = pd.DataFrame([[metrics[0][0], metrics[0][1]], [metrics[0][2], metrics[0][3]]], \n",
    "                                    columns = ['1', '0'], index = ['1', '0'])\n",
    "    sb.heatmap(confusion_matrix, annot = True)\n",
    "    plt.xlabel('Actual Value')\n",
    "    plt.ylabel('Predicted Value')\n",
    "    plt.title('Confusion Matrix for C value ' + str(acc_auc_c[len(acc_auc_c) - 1][0]))\n",
    "    plt.show()"
   ]
  },
  {
   "cell_type": "code",
   "execution_count": 202,
   "metadata": {},
   "outputs": [
    {
     "name": "stdout",
     "output_type": "stream",
     "text": [
      "For C = 0.001\n",
      "Accuracy: 0.825\n",
      "Macro Precision: 0.0\n",
      "Micro Precision: 0\n",
      "Macro Recall: 0.0\n",
      "Micro Recall: 0.0\n",
      "Macro NPV: 0.825\n",
      "Micro NPV: 0.825\n",
      "Macro FPR: 0.0\n",
      "Micro FPR: 0.0\n",
      "Macro FDR: 0.0\n",
      "Micro FDR: 0\n",
      "F1 Measure Value: 0.0\n",
      "F2 Measure Value: 0.0\n"
     ]
    },
    {
     "data": {
      "image/png": "[encoded data removed]",
      "text/plain": [
       "<Figure size 432x288 with 2 Axes>"
      ]
     },
     "metadata": {
      "needs_background": "light"
     },
     "output_type": "display_data"
    },
    {
     "name": "stdout",
     "output_type": "stream",
     "text": [
      "For C = 0.01\n",
      "Accuracy: 0.825\n",
      "Macro Precision: 0.0\n",
      "Micro Precision: 0\n",
      "Macro Recall: 0.0\n",
      "Micro Recall: 0.0\n",
      "Macro NPV: 0.825\n",
      "Micro NPV: 0.825\n",
      "Macro FPR: 0.0\n",
      "Micro FPR: 0.0\n",
      "Macro FDR: 0.0\n",
      "Micro FDR: 0\n",
      "F1 Measure Value: 0.0\n",
      "F2 Measure Value: 0.0\n"
     ]
    },
    {
     "data": {
      "image/png": "[encoded data removed]",
      "text/plain": [
       "<Figure size 432x288 with 2 Axes>"
      ]
     },
     "metadata": {
      "needs_background": "light"
     },
     "output_type": "display_data"
    },
    {
     "name": "stdout",
     "output_type": "stream",
     "text": [
      "For C = 0.1\n",
      "Accuracy: 0.8142857142857143\n",
      "Macro Precision: 0.0\n",
      "Micro Precision: 0.0\n",
      "Macro Recall: 0.0\n",
      "Micro Recall: 0.0\n",
      "Macro NPV: 0.8232900432900433\n",
      "Micro NPV: 0.8231046931407943\n",
      "Macro FPR: 0.012677304964539008\n",
      "Micro FPR: 0.012987012987012988\n",
      "Macro FDR: 0.4\n",
      "Micro FDR: 1.0\n",
      "F1 Measure Value: 0.0\n",
      "F2 Measure Value: 0.0\n"
     ]
    },
    {
     "data": {
      "image/png": "[encoded data removed]",
      "text/plain": [
       "<Figure size 432x288 with 2 Axes>"
      ]
     },
     "metadata": {
      "needs_background": "light"
     },
     "output_type": "display_data"
    },
    {
     "name": "stdout",
     "output_type": "stream",
     "text": [
      "For C = 1\n",
      "Accuracy: 0.7928571428571429\n",
      "Macro Precision: 0.0\n",
      "Micro Precision: 0.0\n",
      "Macro Recall: 0.0\n",
      "Micro Recall: 0.0\n",
      "Macro NPV: 0.8193697043697042\n",
      "Micro NPV: 0.8191881918819188\n",
      "Macro FPR: 0.03862715298885512\n",
      "Micro FPR: 0.03896103896103896\n",
      "Macro FDR: 0.8\n",
      "Micro FDR: 1.0\n",
      "F1 Measure Value: 0.0\n",
      "F2 Measure Value: 0.0\n"
     ]
    },
    {
     "data": {
      "image/png": "[encoded data removed]",
      "text/plain": [
       "<Figure size 432x288 with 2 Axes>"
      ]
     },
     "metadata": {
      "needs_background": "light"
     },
     "output_type": "display_data"
    },
    {
     "name": "stdout",
     "output_type": "stream",
     "text": [
      "For C = 10\n",
      "Accuracy: 0.7892857142857144\n",
      "Macro Precision: 0.0\n",
      "Micro Precision: 0.0\n",
      "Macro Recall: 0.0\n",
      "Micro Recall: 0.0\n",
      "Macro NPV: 0.818810654754051\n",
      "Micro NPV: 0.8185185185185185\n",
      "Macro FPR: 0.04279381965552178\n",
      "Micro FPR: 0.04329004329004329\n",
      "Macro FDR: 0.8\n",
      "Micro FDR: 1.0\n",
      "F1 Measure Value: 0.0\n",
      "F2 Measure Value: 0.0\n"
     ]
    },
    {
     "data": {
      "image/png": "[encoded data removed]",
      "text/plain": [
       "<Figure size 432x288 with 2 Axes>"
      ]
     },
     "metadata": {
      "needs_background": "light"
     },
     "output_type": "display_data"
    },
    {
     "name": "stdout",
     "output_type": "stream",
     "text": [
      "For C = 100\n"
     ]
    },
    {
     "name": "stderr",
     "output_type": "stream",
     "text": [
      "/Users/yusufdalva/anaconda3/lib/python3.7/site-packages/sklearn/svm/base.py:931: ConvergenceWarning: Liblinear failed to converge, increase the number of iterations.\n",
      "  \"the number of iterations.\", ConvergenceWarning)\n",
      "/Users/yusufdalva/anaconda3/lib/python3.7/site-packages/sklearn/svm/base.py:931: ConvergenceWarning: Liblinear failed to converge, increase the number of iterations.\n",
      "  \"the number of iterations.\", ConvergenceWarning)\n",
      "/Users/yusufdalva/anaconda3/lib/python3.7/site-packages/sklearn/svm/base.py:931: ConvergenceWarning: Liblinear failed to converge, increase the number of iterations.\n",
      "  \"the number of iterations.\", ConvergenceWarning)\n",
      "/Users/yusufdalva/anaconda3/lib/python3.7/site-packages/sklearn/svm/base.py:931: ConvergenceWarning: Liblinear failed to converge, increase the number of iterations.\n",
      "  \"the number of iterations.\", ConvergenceWarning)\n"
     ]
    },
    {
     "name": "stdout",
     "output_type": "stream",
     "text": [
      "Accuracy: 0.7892857142857144\n",
      "Macro Precision: 0.0\n",
      "Micro Precision: 0.0\n",
      "Macro Recall: 0.0\n",
      "Micro Recall: 0.0\n",
      "Macro NPV: 0.818810654754051\n",
      "Micro NPV: 0.8185185185185185\n",
      "Macro FPR: 0.04279381965552178\n",
      "Micro FPR: 0.04329004329004329\n",
      "Macro FDR: 0.8\n",
      "Micro FDR: 1.0\n",
      "F1 Measure Value: 0.0\n",
      "F2 Measure Value: 0.0\n"
     ]
    },
    {
     "name": "stderr",
     "output_type": "stream",
     "text": [
      "/Users/yusufdalva/anaconda3/lib/python3.7/site-packages/sklearn/svm/base.py:931: ConvergenceWarning: Liblinear failed to converge, increase the number of iterations.\n",
      "  \"the number of iterations.\", ConvergenceWarning)\n"
     ]
    },
    {
     "data": {
      "image/png": "[encoded data removed]",
      "text/plain": [
       "<Figure size 432x288 with 2 Axes>"
      ]
     },
     "metadata": {
      "needs_background": "light"
     },
     "output_type": "display_data"
    },
    {
     "name": "stdout",
     "output_type": "stream",
     "text": [
      "[[0.825, 0.825, 0.8142857142857143, 0.7928571428571429, 0.7892857142857144, 0.7892857142857144], [0.0, 0.0, 0.0, 0.0, 0.0, 0.0], [0.0, 0.0, 0.012677304964539008, 0.03862715298885512, 0.04279381965552178, 0.04279381965552178]]\n"
     ]
    },
    {
     "data": {
      "image/png": "[encoded data removed]",
      "text/plain": [
       "<Figure size 432x288 with 1 Axes>"
      ]
     },
     "metadata": {
      "needs_background": "light"
     },
     "output_type": "display_data"
    },
    {
     "name": "stdout",
     "output_type": "stream",
     "text": [
      "[(0.001, 0.0, 0.825), (0.01, 0.0, 0.825), (0.1, 0.012677304964539008, 0.8142857142857143), (1, 0.03862715298885512, 0.7928571428571429), (10, 0.04279381965552178, 0.7892857142857144), (100, 0.04279381965552178, 0.7892857142857144)]\n",
      "Optimum C value: 100 , respective accuracy: 0.7892857142857144\n",
      "Slope of ROC curve for optimum c value: 0.04279381965552178\n",
      "For the final model: \n",
      "Accuracy: 0.8260869565217391\n",
      "Precision: 0.5\n",
      "Recall: 0.1\n",
      "NPV: 0.8378378378378378\n",
      "FPR: 0.021052631578947368\n",
      "FDR: 0.5\n",
      "F1-Measure: 0.16666666666666669\n",
      "F2-Measure: 0.11904761904761904\n"
     ]
    },
    {
     "name": "stderr",
     "output_type": "stream",
     "text": [
      "/Users/yusufdalva/anaconda3/lib/python3.7/site-packages/sklearn/svm/base.py:931: ConvergenceWarning: Liblinear failed to converge, increase the number of iterations.\n",
      "  \"the number of iterations.\", ConvergenceWarning)\n"
     ]
    },
    {
     "data": {
      "image/png": "[encoded data removed]",
      "text/plain": [
       "<Figure size 432x288 with 2 Axes>"
      ]
     },
     "metadata": {
      "needs_background": "light"
     },
     "output_type": "display_data"
    }
   ],
   "source": [
    "test_linear_binary_model(train_features, train_binary_labels, test_features, test_binary_labels)"
   ]
  },
  {
   "cell_type": "code",
   "execution_count": 135,
   "metadata": {},
   "outputs": [],
   "source": [
    "def train_RBF_binary_SVM(train_feature_set, train_label_set, gamma):\n",
    "    model = svm.SVC(kernel = 'rbf', gamma = gamma, max_iter = 2000000, C = 100, random_state = 0)\n",
    "    model.fit(train_feature_set, train_label_set)\n",
    "    return model"
   ]
  },
  {
   "cell_type": "code",
   "execution_count": 54,
   "metadata": {},
   "outputs": [],
   "source": [
    "def evaluate_RBF_binary_SVM(train_feature_set, train_label_set, gamma):\n",
    "    folds = []\n",
    "    label_folds = []\n",
    "    run_features = []\n",
    "    run_labels = []\n",
    "    models = []\n",
    "    idx = 0\n",
    "    metrics = []\n",
    "    for fold_no in range(5):\n",
    "        folds.append(np.array(train_feature_set[idx:(idx + (train_feature_set.shape[0] // 5))]))\n",
    "        label_folds.append(np.array(train_label_set[idx:(idx + (train_label_set.shape[0] // 5))]))\n",
    "        run_features.append(np.concatenate((train_feature_set[0:idx], train_feature_set[idx + (train_feature_set.shape[0] // 5):])))\n",
    "        run_labels.append(np.concatenate((train_label_set[0:idx], train_label_set[idx + (train_label_set.shape[0] // 5):])))\n",
    "        models.append(train_RBF_binary_SVM(run_features[fold_no], run_labels[fold_no], gamma))\n",
    "        metrics.append(evaluate_metrics(folds[fold_no], label_folds[fold_no], models[fold_no]))\n",
    "        idx += (train_feature_set.shape[0] // 5)\n",
    "    return metrics"
   ]
  },
  {
   "cell_type": "code",
   "execution_count": 184,
   "metadata": {},
   "outputs": [],
   "source": [
    "def tune_RBF_SVM(train_feature_set, train_label_set):\n",
    "    gamma_set = (2**(-4), 2**(-3), 2**(-2), 2**(-1), 1, 2)\n",
    "    acc_rbf_values = []\n",
    "    recall_rbf_values = []\n",
    "    fpr_rbf_values = []\n",
    "    for gamma in gamma_set:\n",
    "        print('For Gamma = ' + str(gamma))\n",
    "        metrics = evaluate_RBF_binary_SVM(train_feature_set, train_label_set, gamma)\n",
    "        acc_roc = analyze_metric_values(metrics)\n",
    "        acc_rbf_values.append(acc_roc[0])\n",
    "        recall_rbf_values.append(acc_roc[1])\n",
    "        fpr_rbf_values.append(acc_roc[2])\n",
    "    return [acc_rbf_values, recall_rbf_values, fpr_rbf_values]"
   ]
  },
  {
   "cell_type": "code",
   "execution_count": 185,
   "metadata": {},
   "outputs": [
    {
     "name": "stdout",
     "output_type": "stream",
     "text": [
      "For Gamma = 0.0625\n",
      "Accuracy: 0.7821428571428573\n",
      "Macro Precision: 0.04\n",
      "Micro Precision: 0.07142857142857142\n",
      "Macro Recall: 0.025\n",
      "Micro Recall: 0.02040816326530612\n",
      "Macro NPV: 0.8205909776498013\n",
      "Micro NPV: 0.8195488721804511\n",
      "Macro FPR: 0.054964539007092195\n",
      "Micro FPR: 0.05627705627705628\n",
      "Macro FDR: 0.76\n",
      "Micro FDR: 0.9285714285714286\n",
      "F1 Measure Value: 0.03076923076923077\n",
      "F2 Measure Value: 0.02702702702702702\n"
     ]
    },
    {
     "data": {
      "image/png": "[encoded data removed]",
      "text/plain": [
       "<Figure size 432x288 with 2 Axes>"
      ]
     },
     "metadata": {
      "needs_background": "light"
     },
     "output_type": "display_data"
    },
    {
     "name": "stdout",
     "output_type": "stream",
     "text": [
      "For Gamma = 0.125\n",
      "Accuracy: 0.8214285714285715\n",
      "Macro Precision: 0.1\n",
      "Micro Precision: 0.3333333333333333\n",
      "Macro Recall: 0.025\n",
      "Micro Recall: 0.02040816326530612\n",
      "Macro NPV: 0.827061087061087\n",
      "Micro NPV: 0.8267148014440433\n",
      "Macro FPR: 0.008421985815602837\n",
      "Micro FPR: 0.008658008658008658\n",
      "Macro FDR: 0.3\n",
      "Micro FDR: 0.6666666666666666\n",
      "F1 Measure Value: 0.04\n",
      "F2 Measure Value: 0.029411764705882353\n"
     ]
    },
    {
     "data": {
      "image/png": "[encoded data removed]",
      "text/plain": [
       "<Figure size 432x288 with 2 Axes>"
      ]
     },
     "metadata": {
      "needs_background": "light"
     },
     "output_type": "display_data"
    },
    {
     "name": "stdout",
     "output_type": "stream",
     "text": [
      "For Gamma = 0.25\n",
      "Accuracy: 0.8214285714285715\n",
      "Macro Precision: 0.0\n",
      "Micro Precision: 0.0\n",
      "Macro Recall: 0.0\n",
      "Micro Recall: 0.0\n",
      "Macro NPV: 0.8244155844155845\n",
      "Micro NPV: 0.8243727598566308\n",
      "Macro FPR: 0.00425531914893617\n",
      "Micro FPR: 0.004329004329004329\n",
      "Macro FDR: 0.2\n",
      "Micro FDR: 1.0\n",
      "F1 Measure Value: 0.0\n",
      "F2 Measure Value: 0.0\n"
     ]
    },
    {
     "data": {
      "image/png": "[encoded data removed]",
      "text/plain": [
       "<Figure size 432x288 with 2 Axes>"
      ]
     },
     "metadata": {
      "needs_background": "light"
     },
     "output_type": "display_data"
    },
    {
     "name": "stdout",
     "output_type": "stream",
     "text": [
      "For Gamma = 0.5\n",
      "Accuracy: 0.8214285714285715\n",
      "Macro Precision: 0.0\n",
      "Micro Precision: 0.0\n",
      "Macro Recall: 0.0\n",
      "Micro Recall: 0.0\n",
      "Macro NPV: 0.8244155844155845\n",
      "Micro NPV: 0.8243727598566308\n",
      "Macro FPR: 0.00425531914893617\n",
      "Micro FPR: 0.004329004329004329\n",
      "Macro FDR: 0.2\n",
      "Micro FDR: 1.0\n",
      "F1 Measure Value: 0.0\n",
      "F2 Measure Value: 0.0\n"
     ]
    },
    {
     "data": {
      "image/png": "[encoded data removed]",
      "text/plain": [
       "<Figure size 432x288 with 2 Axes>"
      ]
     },
     "metadata": {
      "needs_background": "light"
     },
     "output_type": "display_data"
    },
    {
     "name": "stdout",
     "output_type": "stream",
     "text": [
      "For Gamma = 1\n",
      "Accuracy: 0.825\n",
      "Macro Precision: 0.0\n",
      "Micro Precision: 0\n",
      "Macro Recall: 0.0\n",
      "Micro Recall: 0.0\n",
      "Macro NPV: 0.825\n",
      "Micro NPV: 0.825\n",
      "Macro FPR: 0.0\n",
      "Micro FPR: 0.0\n",
      "Macro FDR: 0.0\n",
      "Micro FDR: 0\n",
      "F1 Measure Value: 0.0\n",
      "F2 Measure Value: 0.0\n"
     ]
    },
    {
     "data": {
      "image/png": "[encoded data removed]",
      "text/plain": [
       "<Figure size 432x288 with 2 Axes>"
      ]
     },
     "metadata": {
      "needs_background": "light"
     },
     "output_type": "display_data"
    },
    {
     "name": "stdout",
     "output_type": "stream",
     "text": [
      "For Gamma = 2\n",
      "Accuracy: 0.825\n",
      "Macro Precision: 0.0\n",
      "Micro Precision: 0\n",
      "Macro Recall: 0.0\n",
      "Micro Recall: 0.0\n",
      "Macro NPV: 0.825\n",
      "Micro NPV: 0.825\n",
      "Macro FPR: 0.0\n",
      "Micro FPR: 0.0\n",
      "Macro FDR: 0.0\n",
      "Micro FDR: 0\n",
      "F1 Measure Value: 0.0\n",
      "F2 Measure Value: 0.0\n"
     ]
    },
    {
     "data": {
      "image/png": "[encoded data removed]",
      "text/plain": [
       "<Figure size 432x288 with 2 Axes>"
      ]
     },
     "metadata": {
      "needs_background": "light"
     },
     "output_type": "display_data"
    },
    {
     "data": {
      "text/plain": [
       "[[0.7821428571428573,\n",
       "  0.8214285714285715,\n",
       "  0.8214285714285715,\n",
       "  0.8214285714285715,\n",
       "  0.825,\n",
       "  0.825],\n",
       " [0.025, 0.025, 0.0, 0.0, 0.0, 0.0],\n",
       " [0.054964539007092195,\n",
       "  0.008421985815602837,\n",
       "  0.00425531914893617,\n",
       "  0.00425531914893617,\n",
       "  0.0,\n",
       "  0.0]]"
      ]
     },
     "execution_count": 185,
     "metadata": {},
     "output_type": "execute_result"
    }
   ],
   "source": [
    "tune_RBF_SVM(train_features, train_binary_labels)"
   ]
  },
  {
   "cell_type": "code",
   "execution_count": 203,
   "metadata": {},
   "outputs": [],
   "source": [
    "def test_RBF_binary_model(train_feature_set, train_label_set, test_feature_set, test_label_set):\n",
    "    results = tune_RBF_SVM(train_feature_set, train_label_set)\n",
    "    print(results)\n",
    "    plot_results(results[0], 'Gamma', ('0.0625', '0.125', '0.25', '0.5', '1', '2'))\n",
    "    gamma_set = (2**(-4), 2**(-3), 2**(-2), 2**(-1), 1, 2)\n",
    "    acc_auc_gamma = []\n",
    "    for idx in range(len(gamma_set)):\n",
    "        acc_auc_gamma.append((gamma_set[idx], results[1][idx] + results[2][idx], results[0][idx]))\n",
    "    acc_auc_gamma.sort(key=lambda tup: tup[1])\n",
    "    print(acc_auc_gamma)\n",
    "    print('Optimum Gamma value: ' + str(acc_auc_gamma[len(acc_auc_gamma) - 1][0]), ', respective accuracy: ' + str(acc_auc_gamma[len(acc_auc_gamma) - 1][2]))\n",
    "    print('F1 Measure for optimal Gamma value: ' + str(acc_auc_gamma[len(acc_auc_gamma) - 1][1]))\n",
    "    model = train_RBF_binary_SVM(train_feature_set, train_label_set, acc_auc_gamma[len(acc_auc_gamma) - 1][0])\n",
    "    metrics = evaluate_metrics(test_feature_set, test_label_set, model)\n",
    "    print('For the final model: ')\n",
    "    print('Accuracy: ' + str(metrics[1]))\n",
    "    print('Precision: ' + str(metrics[2]))\n",
    "    print('Recall: ' + str(metrics[3]))\n",
    "    print('NPV: ' + str(metrics[4]))\n",
    "    print('FPR: ' + str(metrics[5]))\n",
    "    print('FDR: ' + str(metrics[6]))\n",
    "    print('F1-Measure: ' + str(metrics[7]))\n",
    "    print('F2-Measure: ' + str(metrics[8]))\n",
    "    confusion_matrix = pd.DataFrame([[metrics[0][0], metrics[0][1]], [metrics[0][2], metrics[0][3]]], \n",
    "                                    columns = ['1', '0'], index = ['1', '0'])\n",
    "    sb.heatmap(confusion_matrix, annot = True)\n",
    "    plt.xlabel('Actual Value')\n",
    "    plt.ylabel('Predicted Value')\n",
    "    plt.title('Confusion Matrix for Gamma value ' + str(acc_auc_gamma[len(acc_auc_gamma) - 1][0]))\n",
    "    plt.show()\n",
    "    return acc_auc_gamma[len(acc_auc_gamma) - 1][0]"
   ]
  },
  {
   "cell_type": "code",
   "execution_count": 204,
   "metadata": {},
   "outputs": [
    {
     "name": "stdout",
     "output_type": "stream",
     "text": [
      "For Gamma = 0.0625\n",
      "Accuracy: 0.7821428571428573\n",
      "Macro Precision: 0.04\n",
      "Micro Precision: 0.07142857142857142\n",
      "Macro Recall: 0.025\n",
      "Micro Recall: 0.02040816326530612\n",
      "Macro NPV: 0.8205909776498013\n",
      "Micro NPV: 0.8195488721804511\n",
      "Macro FPR: 0.054964539007092195\n",
      "Micro FPR: 0.05627705627705628\n",
      "Macro FDR: 0.76\n",
      "Micro FDR: 0.9285714285714286\n",
      "F1 Measure Value: 0.03076923076923077\n",
      "F2 Measure Value: 0.02702702702702702\n"
     ]
    },
    {
     "data": {
      "image/png": "[encoded data removed]",
      "text/plain": [
       "<Figure size 432x288 with 2 Axes>"
      ]
     },
     "metadata": {
      "needs_background": "light"
     },
     "output_type": "display_data"
    },
    {
     "name": "stdout",
     "output_type": "stream",
     "text": [
      "For Gamma = 0.125\n",
      "Accuracy: 0.8214285714285715\n",
      "Macro Precision: 0.1\n",
      "Micro Precision: 0.3333333333333333\n",
      "Macro Recall: 0.025\n",
      "Micro Recall: 0.02040816326530612\n",
      "Macro NPV: 0.827061087061087\n",
      "Micro NPV: 0.8267148014440433\n",
      "Macro FPR: 0.008421985815602837\n",
      "Micro FPR: 0.008658008658008658\n",
      "Macro FDR: 0.3\n",
      "Micro FDR: 0.6666666666666666\n",
      "F1 Measure Value: 0.04\n",
      "F2 Measure Value: 0.029411764705882353\n"
     ]
    },
    {
     "data": {
      "image/png": "[encoded data removed]",
      "text/plain": [
       "<Figure size 432x288 with 2 Axes>"
      ]
     },
     "metadata": {
      "needs_background": "light"
     },
     "output_type": "display_data"
    },
    {
     "name": "stdout",
     "output_type": "stream",
     "text": [
      "For Gamma = 0.25\n",
      "Accuracy: 0.8214285714285715\n",
      "Macro Precision: 0.0\n",
      "Micro Precision: 0.0\n",
      "Macro Recall: 0.0\n",
      "Micro Recall: 0.0\n",
      "Macro NPV: 0.8244155844155845\n",
      "Micro NPV: 0.8243727598566308\n",
      "Macro FPR: 0.00425531914893617\n",
      "Micro FPR: 0.004329004329004329\n",
      "Macro FDR: 0.2\n",
      "Micro FDR: 1.0\n",
      "F1 Measure Value: 0.0\n",
      "F2 Measure Value: 0.0\n"
     ]
    },
    {
     "data": {
      "image/png": "[encoded data removed]",
      "text/plain": [
       "<Figure size 432x288 with 2 Axes>"
      ]
     },
     "metadata": {
      "needs_background": "light"
     },
     "output_type": "display_data"
    },
    {
     "name": "stdout",
     "output_type": "stream",
     "text": [
      "For Gamma = 0.5\n",
      "Accuracy: 0.8214285714285715\n",
      "Macro Precision: 0.0\n",
      "Micro Precision: 0.0\n",
      "Macro Recall: 0.0\n",
      "Micro Recall: 0.0\n",
      "Macro NPV: 0.8244155844155845\n",
      "Micro NPV: 0.8243727598566308\n",
      "Macro FPR: 0.00425531914893617\n",
      "Micro FPR: 0.004329004329004329\n",
      "Macro FDR: 0.2\n",
      "Micro FDR: 1.0\n",
      "F1 Measure Value: 0.0\n",
      "F2 Measure Value: 0.0\n"
     ]
    },
    {
     "data": {
      "image/png": "[encoded data removed]",
      "text/plain": [
       "<Figure size 432x288 with 2 Axes>"
      ]
     },
     "metadata": {
      "needs_background": "light"
     },
     "output_type": "display_data"
    },
    {
     "name": "stdout",
     "output_type": "stream",
     "text": [
      "For Gamma = 1\n",
      "Accuracy: 0.825\n",
      "Macro Precision: 0.0\n",
      "Micro Precision: 0\n",
      "Macro Recall: 0.0\n",
      "Micro Recall: 0.0\n",
      "Macro NPV: 0.825\n",
      "Micro NPV: 0.825\n",
      "Macro FPR: 0.0\n",
      "Micro FPR: 0.0\n",
      "Macro FDR: 0.0\n",
      "Micro FDR: 0\n",
      "F1 Measure Value: 0.0\n",
      "F2 Measure Value: 0.0\n"
     ]
    },
    {
     "data": {
      "image/png": "[encoded data removed]",
      "text/plain": [
       "<Figure size 432x288 with 2 Axes>"
      ]
     },
     "metadata": {
      "needs_background": "light"
     },
     "output_type": "display_data"
    },
    {
     "name": "stdout",
     "output_type": "stream",
     "text": [
      "For Gamma = 2\n",
      "Accuracy: 0.825\n",
      "Macro Precision: 0.0\n",
      "Micro Precision: 0\n",
      "Macro Recall: 0.0\n",
      "Micro Recall: 0.0\n",
      "Macro NPV: 0.825\n",
      "Micro NPV: 0.825\n",
      "Macro FPR: 0.0\n",
      "Micro FPR: 0.0\n",
      "Macro FDR: 0.0\n",
      "Micro FDR: 0\n",
      "F1 Measure Value: 0.0\n",
      "F2 Measure Value: 0.0\n"
     ]
    },
    {
     "data": {
      "image/png": "[encoded data removed]",
      "text/plain": [
       "<Figure size 432x288 with 2 Axes>"
      ]
     },
     "metadata": {
      "needs_background": "light"
     },
     "output_type": "display_data"
    },
    {
     "name": "stdout",
     "output_type": "stream",
     "text": [
      "[[0.7821428571428573, 0.8214285714285715, 0.8214285714285715, 0.8214285714285715, 0.825, 0.825], [0.025, 0.025, 0.0, 0.0, 0.0, 0.0], [0.054964539007092195, 0.008421985815602837, 0.00425531914893617, 0.00425531914893617, 0.0, 0.0]]\n"
     ]
    },
    {
     "data": {
      "image/png": "[encoded data removed]",
      "text/plain": [
       "<Figure size 432x288 with 1 Axes>"
      ]
     },
     "metadata": {
      "needs_background": "light"
     },
     "output_type": "display_data"
    },
    {
     "name": "stdout",
     "output_type": "stream",
     "text": [
      "[(1, 0.0, 0.825), (2, 0.0, 0.825), (0.25, 0.00425531914893617, 0.8214285714285715), (0.5, 0.00425531914893617, 0.8214285714285715), (0.125, 0.03342198581560284, 0.8214285714285715), (0.0625, 0.07996453900709219, 0.7821428571428573)]\n",
      "Optimum Gamma value: 0.0625 , respective accuracy: 0.7821428571428573\n",
      "F1 Measure for optimal Gamma value: 0.07996453900709219\n",
      "For the final model: \n",
      "Accuracy: 0.8347826086956521\n",
      "Precision: 1.0\n",
      "Recall: 0.05\n",
      "NPV: 0.8333333333333334\n",
      "FPR: 0.0\n",
      "FDR: 0.0\n",
      "F1-Measure: 0.09523809523809523\n",
      "F2-Measure: 0.0617283950617284\n"
     ]
    },
    {
     "data": {
      "image/png": "[encoded data removed]",
      "text/plain": [
       "<Figure size 432x288 with 2 Axes>"
      ]
     },
     "metadata": {
      "needs_background": "light"
     },
     "output_type": "display_data"
    },
    {
     "data": {
      "text/plain": [
       "0.0625"
      ]
     },
     "execution_count": 204,
     "metadata": {},
     "output_type": "execute_result"
    }
   ],
   "source": [
    "test_RBF_binary_model(train_features, train_binary_labels, test_features, test_binary_labels)"
   ]
  },
  {
   "cell_type": "code",
   "execution_count": 271,
   "metadata": {},
   "outputs": [],
   "source": [
    "def train_RBF_multiclass_SVM(train_feature_set, train_label_set, gamma_val, c):\n",
    "    model = svm.SVC(kernel = 'rbf', gamma = gamma_val, C = c, decision_function_shape = 'ovr')\n",
    "    model.fit(train_feature_set, train_label_set)\n",
    "    return model"
   ]
  },
  {
   "cell_type": "code",
   "execution_count": 272,
   "metadata": {},
   "outputs": [],
   "source": [
    "def evaluate_multiclass_confusion(valid_features, valid_set, model):\n",
    "    predictions = model.predict(valid_features)\n",
    "    class_0 = [0,0,0]\n",
    "    class_1 = [0,0,0]\n",
    "    class_2 = [0,0,0]\n",
    "    for idx in range(predictions.size):\n",
    "        if predictions[idx] == 0:\n",
    "            if predictions[idx] == valid_set[idx]:\n",
    "                class_0[0] += 1\n",
    "            elif valid_set[idx] == 1:\n",
    "                class_0[1] += 1\n",
    "            else:\n",
    "                class_0[2] += 1\n",
    "        if predictions[idx] == 1:\n",
    "            if predictions[idx] == valid_set[idx]:\n",
    "                class_1[1] += 1\n",
    "            elif valid_set[idx] == 1:\n",
    "                class_1[0] += 1\n",
    "            else:\n",
    "                class_1[2] += 1\n",
    "        if predictions[idx] == 2:\n",
    "            if predictions[idx] == valid_set[idx]:\n",
    "                class_2[2] += 1\n",
    "            elif valid_set[idx] == 1:\n",
    "                class_2[1] += 1\n",
    "            else:\n",
    "                class_2[0] += 1\n",
    "    return [class_0, class_1, class_2]"
   ]
  },
  {
   "cell_type": "code",
   "execution_count": 273,
   "metadata": {},
   "outputs": [],
   "source": [
    "def evaluate_multiclass_metrics(valid_features, valid_set, model):\n",
    "    confusion_matrix = evaluate_multiclass_confusion(valid_features, valid_set, model)\n",
    "    accuracy = (confusion_matrix[0][0] + confusion_matrix[1][1] + confusion_matrix[2][2]) / valid_set.size\n",
    "    # tp, fp, fn, tn\n",
    "    class_0_matrix = [0,0,0,0]\n",
    "    class_1_matrix = [0,0,0,0]\n",
    "    class_2_matrix = [0,0,0,0]\n",
    "    class_0_matrix[0] = confusion_matrix[0][0]\n",
    "    class_1_matrix[0] = confusion_matrix[1][1]\n",
    "    class_2_matrix[0] = confusion_matrix[2][2]\n",
    "    class_0_matrix[1] = confusion_matrix[0][1] + confusion_matrix[0][2]\n",
    "    class_1_matrix[1] = confusion_matrix[1][0] + confusion_matrix[1][2]\n",
    "    class_2_matrix[1] = confusion_matrix[2][0] + confusion_matrix[2][1]\n",
    "    class_0_matrix[2] = confusion_matrix[0][1] + confusion_matrix[0][2] + confusion_matrix[1][2] + confusion_matrix[2][1]\n",
    "    class_1_matrix[2] = confusion_matrix[0][1] + confusion_matrix[0][2] + confusion_matrix[2][0] + confusion_matrix[2][1]\n",
    "    class_2_matrix[2] = confusion_matrix[0][1] + confusion_matrix[0][2] + confusion_matrix[1][0] + confusion_matrix[1][2]\n",
    "    class_0_matrix[0] = confusion_matrix[1][1] + confusion_matrix[2][2]\n",
    "    class_1_matrix[0] = confusion_matrix[0][0] + confusion_matrix[2][2]\n",
    "    class_2_matrix[0] = confusion_matrix[0][0] + confusion_matrix[1][1]\n",
    "    return [class_0_matrix, class_1_matrix, class_2_matrix]"
   ]
  },
  {
   "cell_type": "code",
   "execution_count": 286,
   "metadata": {},
   "outputs": [],
   "source": [
    "def evaluate_matrix_metrics(conf_matrix):\n",
    "    accuracy = 0\n",
    "    precision = 0\n",
    "    recall = 0\n",
    "    npv = 0\n",
    "    fpr = 0\n",
    "    fdr = 0\n",
    "    f1 = 0\n",
    "    f2 = 0\n",
    "    if conf_matrix[0] + conf_matrix[3] != 0:\n",
    "        accuracy = (conf_matrix[0] + conf_matrix[1]) / (conf_matrix[0] + conf_matrix[3] + conf_matrix[1] + conf_matrix[2])\n",
    "    if conf_matrix[0] + conf_matrix[1] != 0:\n",
    "        precision = conf_matrix[0] / (conf_matrix[0] + conf_matrix[1])\n",
    "    if conf_matrix[0] + conf_matrix[2] != 0:\n",
    "        recall = conf_matrix[0] / (conf_matrix[0] + conf_matrix[2])\n",
    "    if conf_matrix[3] + conf_matrix[2] != 0:\n",
    "        npv = conf_matrix[3] / (conf_matrix[2] + conf_matrix[3])\n",
    "    if conf_matrix[1] + conf_matrix[3] != 0:\n",
    "        fpr = conf_matrix[1] / (conf_matrix[1] + conf_matrix[3])\n",
    "    if conf_matrix[0] + conf_matrix[1] != 0:\n",
    "        fdr = conf_matrix[1] / (conf_matrix[0] + conf_matrix[1])\n",
    "    if conf_matrix[3] + conf_matrix[2] != 0:\n",
    "        npv = conf_matrix[3] / (conf_matrix[2] + conf_matrix[3])\n",
    "    if precision + recall != 0:\n",
    "        f1 = (2 * precision * recall) / (precision + recall)\n",
    "        f2 = (5 * precision * recall) / (4 * precision + recall)\n",
    "    return [accuracy, precision, recall, npv, fpr, fdr, f1, f2]"
   ]
  },
  {
   "cell_type": "code",
   "execution_count": 287,
   "metadata": {},
   "outputs": [],
   "source": [
    "def calculate_values(valid_features, valid_set, model):\n",
    "    matrices = evaluate_multiclass_metrics(valid_features, valid_set, model)\n",
    "    print(matrices)\n",
    "    matrix = [0,0,0,0]\n",
    "    values = np.zeros(8)\n",
    "    for idx in range(len(matrices)):\n",
    "        matrix = np.add(matrix, matrices[idx])\n",
    "    values = evaluate_matrix_metrics(matrix)\n",
    "    return [matrix, values]"
   ]
  },
  {
   "cell_type": "code",
   "execution_count": 288,
   "metadata": {},
   "outputs": [],
   "source": [
    "def evaluate_multiclass_SVM(train_feature_set, train_label_set, c, gamma):\n",
    "    folds = []\n",
    "    label_folds = []\n",
    "    run_features = []\n",
    "    run_labels = []\n",
    "    models = []\n",
    "    idx = 0\n",
    "    metrics = []\n",
    "    for fold_no in range(5):\n",
    "        folds.append(np.array(train_feature_set[idx:(idx + (train_feature_set.shape[0] // 5))]))\n",
    "        label_folds.append(np.array(train_label_set[idx:(idx + (train_label_set.shape[0] // 5))]))\n",
    "        run_features.append(np.concatenate((train_feature_set[0:idx], train_feature_set[idx + (train_feature_set.shape[0] // 5):])))\n",
    "        run_labels.append(np.concatenate((train_label_set[0:idx], train_label_set[idx + (train_label_set.shape[0] // 5):])))\n",
    "        models.append(train_RBF_multiclass_SVM(run_features[fold_no], run_labels[fold_no], gamma, c))\n",
    "        metrics.append(calculate_values(folds[fold_no], label_folds[fold_no], models[fold_no]))\n",
    "        idx += (train_feature_set.shape[0] // 5)\n",
    "    return metrics"
   ]
  },
  {
   "cell_type": "code",
   "execution_count": 289,
   "metadata": {},
   "outputs": [
    {
     "name": "stdout",
     "output_type": "stream",
     "text": [
      "[[3, 29, 35, 0], [18, 6, 29, 0], [21, 0, 35, 0]]\n",
      "[[4, 21, 31, 0], [21, 10, 21, 0], [25, 0, 31, 0]]\n",
      "[[5, 18, 29, 0], [20, 11, 20, 0], [25, 2, 29, 0]]\n",
      "[[7, 22, 26, 0], [24, 2, 24, 0], [29, 2, 24, 0]]\n",
      "[[5, 16, 27, 0], [24, 10, 17, 0], [29, 1, 26, 0]]\n"
     ]
    },
    {
     "data": {
      "text/plain": [
       "(5, 2)"
      ]
     },
     "execution_count": 289,
     "metadata": {},
     "output_type": "execute_result"
    }
   ],
   "source": [
    "np.array(evaluate_multiclass_SVM(train_features, train_multiclass_labels, 1000, 0.125)).shape"
   ]
  },
  {
   "cell_type": "code",
   "execution_count": 290,
   "metadata": {},
   "outputs": [],
   "source": [
    "def analyze_multiclass_metrics(train_feature_set, train_label_set, test_feature_set, test_label_set):\n",
    "    c = 1000\n",
    "    gamma = 0.0625\n",
    "    metrics = evaluate_multiclass_SVM(train_feature_set, train_label_set, c, gamma)\n",
    "    all_metrics = []\n",
    "    for idx in range(5):\n",
    "        all_metrics.append([metrics[idx][0], metrics[idx][1][0], metrics[idx][1][1], metrics[idx][1][2], \n",
    "                           metrics[idx][1][3], metrics[idx][1][4], metrics[idx][1][5], \n",
    "                           metrics[idx][1][6], metrics[idx][1][7]])\n",
    "    analyze_metric_values(all_metrics)\n",
    "    model = train_RBF_multiclass_SVM(train_feature_set, train_label_set, gamma, c)\n",
    "    matrix = evaluate_multiclass_confusion(test_feature_set, test_label_set, model)\n",
    "    confusion_matrix = pd.DataFrame([matrix[0], matrix[1], matrix[2]], \n",
    "                                    columns = ['0', '1', '2'], index = ['0', '1', '2'])\n",
    "    sb.heatmap(confusion_matrix, annot = True)\n",
    "    plt.xlabel('Actual Value')\n",
    "    plt.ylabel('Predicted Value')\n",
    "    plt.show()"
   ]
  },
  {
   "cell_type": "code",
   "execution_count": 292,
   "metadata": {},
   "outputs": [
    {
     "name": "stdout",
     "output_type": "stream",
     "text": [
      "[[5, 25, 37, 0], [14, 11, 26, 0], [19, 1, 36, 0]]\n",
      "[[5, 16, 32, 0], [19, 13, 19, 0], [24, 3, 29, 0]]\n",
      "[[6, 16, 31, 0], [17, 14, 19, 0], [23, 3, 30, 0]]\n",
      "[[9, 17, 27, 0], [17, 5, 26, 0], [24, 9, 22, 0]]\n",
      "[[8, 13, 31, 0], [12, 17, 19, 0], [20, 6, 30, 0]]\n",
      "Accuracy: 0.4868600170161653\n",
      "Macro Precision: 0.5665089775540586\n",
      "Micro Precision: 0.5677749360613811\n",
      "Macro Recall: 0.35015699223728414\n",
      "Micro Recall: 0.3490566037735849\n",
      "Macro NPV: 0.0\n",
      "Micro NPV: 0.0\n",
      "Macro FPR: 1.0\n",
      "Micro FPR: 1.0\n",
      "Macro FDR: 0.43349102244594134\n",
      "Micro FDR: 0.4322250639386189\n",
      "F1 Measure Value: 0.4324819347782163\n",
      "F2 Measure Value: 0.3789794613540224\n"
     ]
    },
    {
     "data": {
      "image/png": "[encoded data removed]",
      "text/plain": [
       "<Figure size 432x288 with 2 Axes>"
      ]
     },
     "metadata": {
      "needs_background": "light"
     },
     "output_type": "display_data"
    },
    {
     "data": {
      "image/png": "[encoded data removed]",
      "text/plain": [
       "<Figure size 432x288 with 2 Axes>"
      ]
     },
     "metadata": {
      "needs_background": "light"
     },
     "output_type": "display_data"
    }
   ],
   "source": [
    "analyze_multiclass_metrics(train_features, train_multiclass_labels, test_features, test_multiclass_labels)"
   ]
  },
  {
   "cell_type": "code",
   "execution_count": null,
   "metadata": {},
   "outputs": [],
   "source": []
  }
 ],
 "metadata": {
  "kernelspec": {
   "display_name": "Python 3",
   "language": "python",
   "name": "python3"
  },
  "language_info": {
   "codemirror_mode": {
    "name": "ipython",
    "version": 3
   },
   "file_extension": ".py",
   "mimetype": "text/x-python",
   "name": "python",
   "nbconvert_exporter": "python",
   "pygments_lexer": "ipython3",
   "version": "3.7.3"
  }
 },
 "nbformat": 4,
 "nbformat_minor": 2
}
