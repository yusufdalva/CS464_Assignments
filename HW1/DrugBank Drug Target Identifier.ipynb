{
 "cells": [
  {
   "cell_type": "code",
   "execution_count": 1,
   "metadata": {},
   "outputs": [],
   "source": [
    "# Necessary imports\n",
    "import os\n",
    "import csv\n",
    "import math\n",
    "import random as rnd\n",
    "import operator\n",
    "import pandas as pd\n",
    "\n",
    "import numpy as np\n",
    "import matplotlib.pyplot as plt\n",
    "import matplotlib.image as img\n",
    "import time\n",
    "np.random.seed(123)\n"
   ]
  },
  {
   "cell_type": "code",
   "execution_count": 2,
   "metadata": {
    "scrolled": true
   },
   "outputs": [],
   "source": [
    "# Paths for the data files - This work assumes that the data files are in the local directory with the file\n",
    "# Can change the directories to access to the files\n",
    "training_data_paths = [\"question-3-train-protein-index.csv\", \"question-3-train-features.csv\", \"question-3-train-labels.csv\"]\n",
    "validate_data_paths = [\"question-3-valid-protein-index.csv\", \"question-3-valid-features.csv\", \"question-3-valid-labels.csv\"]\n",
    "index_path = 'question-3-drug-index.csv'\n",
    "training_labels = pd.read_csv(training_data_paths[2], header = None).to_numpy()\n",
    "training_features = pd.read_csv(training_data_paths[1], header = None).to_numpy()\n",
    "valid_labels = pd.read_csv(validate_data_paths[2], header = None).to_numpy()\n",
    "valid_features = pd.read_csv(validate_data_paths[1], header = None).to_numpy()"
   ]
  },
  {
   "cell_type": "code",
   "execution_count": 3,
   "metadata": {},
   "outputs": [],
   "source": [
    "# Euclidean Distance between two data points\n",
    "def euclidean_distance(data_1, data_2):\n",
    "    assert data_1.size == data_2.size\n",
    "    distance = np.subtract(data_1, data_2)\n",
    "    distance = np.sqrt(np.power(distance, 2))\n",
    "    return np.sum(distance)"
   ]
  },
  {
   "cell_type": "code",
   "execution_count": 4,
   "metadata": {},
   "outputs": [],
   "source": [
    "# Manhattan Distance between two data points\n",
    "def manhattan_distance(row_1, row_2):\n",
    "    assert row_1.size == row_2.size\n",
    "    difference = np.subtract(row_1, row_2)\n",
    "    difference = np.absolute(difference)\n",
    "    return np.sum(difference)"
   ]
  },
  {
   "cell_type": "code",
   "execution_count": 5,
   "metadata": {},
   "outputs": [
    {
     "name": "stdout",
     "output_type": "stream",
     "text": [
      "Euclidean distance: 5.0\n",
      "Time for computing euclidean distance of two instances: 0.0029730796813964844\n",
      "Manhattan distance: 5\n",
      "Time for computing manhattan distance of two instances: 0.0006110668182373047\n",
      "Computing Manhattan distance is faster by a factor of: 4.865392118611003\n"
     ]
    }
   ],
   "source": [
    "start = time.time()\n",
    "dist = euclidean_distance(valid_features[0], training_features[0])\n",
    "print('Euclidean distance: ' + str(dist))\n",
    "end = time.time()\n",
    "euc_unit_time = end - start\n",
    "print('Time for computing euclidean distance of two instances: ' + str(end - start))\n",
    "start = time.time()\n",
    "dist = manhattan_distance(valid_features[0], training_features[0])\n",
    "print('Manhattan distance: ' + str(dist))\n",
    "end = time.time()\n",
    "print('Time for computing manhattan distance of two instances: ' + str(end - start))\n",
    "man_unit_time = end - start\n",
    "if euc_unit_time < man_unit_time:\n",
    "    print('Computing Euclidean distance is faster by a factor of: ' + str(man_unit_time / euc_unit_time))\n",
    "else:\n",
    "    print('Computing Manhattan distance is faster by a factor of: ' + str(euc_unit_time / man_unit_time))"
   ]
  },
  {
   "cell_type": "code",
   "execution_count": 6,
   "metadata": {},
   "outputs": [
    {
     "data": {
      "image/png": "[encoded data removed]",
      "text/plain": [
       "<Figure size 432x288 with 1 Axes>"
      ]
     },
     "metadata": {
      "needs_background": "light"
     },
     "output_type": "display_data"
    }
   ],
   "source": [
    "# Analysis of runtimes two distance measures for 5 measurements\n",
    "start_1 = time.time()\n",
    "for i in range(10):\n",
    "    euclidean_distance(valid_features[0], training_features[0])\n",
    "end_1 = time.time()\n",
    "start_2 = time.time()\n",
    "for i in range(10):\n",
    "    manhattan_distance(valid_features[0], training_features[0])\n",
    "end_2 = time.time()\n",
    "plt.bar(['Manhattan Distance', 'Euclidean Distance'], [end_2 - start_2, end_1 - start_1])\n",
    "plt.xlabel('Distance measure')\n",
    "plt.ylabel('Runtime(seconds)')\n",
    "plt.title('Runtimes of distance measures for 10 calculations')\n",
    "plt.show()"
   ]
  },
  {
   "cell_type": "code",
   "execution_count": 7,
   "metadata": {},
   "outputs": [],
   "source": [
    "# Compute distances for one validation data\n",
    "def compute_distances(valid_row, training_data, training_labels):\n",
    "    distances = []\n",
    "    for sample_idx in range(training_data.shape[0]):\n",
    "        distances.append((manhattan_distance(valid_row, training_data[sample_idx]), training_labels[sample_idx][0]))\n",
    "    return distances"
   ]
  },
  {
   "cell_type": "code",
   "execution_count": 8,
   "metadata": {},
   "outputs": [],
   "source": [
    "# Get the kth nearest neighbors of the sample data\n",
    "def get_k_neighbors(training_data, training_labels, test_row, k):\n",
    "    distances = compute_distances(test_row, training_data, training_labels)\n",
    "    neighbors = distances = sorted(distances, key=operator.itemgetter(0))\n",
    "    return neighbors[0:k]"
   ]
  },
  {
   "cell_type": "code",
   "execution_count": 9,
   "metadata": {},
   "outputs": [],
   "source": [
    "def evaluate_KNN_value(training_data, training_labels, test_data_sample, k):\n",
    "    k_neighbors = get_k_neighbors(training_features, training_labels, test_data_sample, k)\n",
    "    positive_labels = 0\n",
    "    negative_labels = 0\n",
    "    for n in range(k):\n",
    "        if k_neighbors[n][1] == 0:\n",
    "            negative_labels += 1\n",
    "        else:\n",
    "            positive_labels += 1\n",
    "    if positive_labels > negative_labels:\n",
    "        return 1\n",
    "    return 0"
   ]
  },
  {
   "cell_type": "code",
   "execution_count": 21,
   "metadata": {},
   "outputs": [],
   "source": [
    "def evaluate_classifier(training_data, training_labels, test_data, test_labels, k):\n",
    "    true_count = 0\n",
    "    predicted_positive = 0\n",
    "    predicted_negative = 0\n",
    "    positives = [0,0] # first index is the number or false positives, second is true posivites\n",
    "    negatives = [0,0] # first index is the number of false negatives, second is true negatives\n",
    "    for idx in range(test_data.shape[0]):\n",
    "        val = evaluate_KNN_value(training_data, training_labels, test_data[idx], k)\n",
    "        if val == test_labels[idx]:\n",
    "            true_count += 1\n",
    "            if val == 1:\n",
    "                positives[1] += 1\n",
    "                predicted_positive += 1\n",
    "            else:\n",
    "                negatives[1] += 1\n",
    "                predicted_negative += 1\n",
    "        else:\n",
    "            if val == 1:\n",
    "                positives[0] += 1\n",
    "                predicted_positive += 1\n",
    "            else:\n",
    "                negatives[0] += 1\n",
    "                predicted_negative += 1\n",
    "    result = ((true_count / (test_labels.size)), (predicted_positive, predicted_negative), (positives, negatives))\n",
    "    return result"
   ]
  },
  {
   "cell_type": "code",
   "execution_count": 25,
   "metadata": {},
   "outputs": [
    {
     "name": "stdout",
     "output_type": "stream",
     "text": [
      "The accuracy and runtime results for different k values: \n",
      "(0.7838405036726128, (297, 656), ([156, 141], [50, 606]))\n",
      "K: 1\n",
      "Accuracy: 0.7838405036726128, Precision : 0.47474747474747475\n",
      "Runtime: 560.7839426994324\n",
      "(0.8835257082896117, (98, 855), ([9, 89], [102, 753]))\n",
      "K: 3\n",
      "Accuracy: 0.8835257082896117, Precision : 0.9081632653061225\n",
      "Runtime: 540.6097581386566\n",
      "(0.8646379853095488, (66, 887), ([2, 64], [127, 760]))\n",
      "K: 5\n",
      "Accuracy: 0.8646379853095488, Precision : 0.9696969696969697\n",
      "Runtime: 565.0499711036682\n",
      "(0.8310598111227702, (34, 919), ([2, 32], [159, 760]))\n",
      "K: 10\n",
      "Accuracy: 0.8310598111227702, Precision : 0.9411764705882353\n",
      "Runtime: 552.7982199192047\n",
      "(0.8216159496327388, (21, 932), ([0, 21], [170, 762]))\n",
      "K: 20\n",
      "Accuracy: 0.8216159496327388, Precision : 1.0\n",
      "Runtime: 589.2516300678253\n",
      "(0.7995802728226653, (0, 953), ([0, 0], [191, 762]))\n",
      "K: 50\n",
      "Accuracy: 0.7995802728226653, Precision : 0\n",
      "Runtime: 591.7741060256958\n",
      "(0.7995802728226653, (0, 953), ([0, 0], [191, 762]))\n",
      "K: 100\n",
      "Accuracy: 0.7995802728226653, Precision : 0\n",
      "Runtime: 560.4131109714508\n",
      "(0.7995802728226653, (0, 953), ([0, 0], [191, 762]))\n",
      "K: 200\n",
      "Accuracy: 0.7995802728226653, Precision : 0\n",
      "Runtime: 578.9668428897858\n"
     ]
    }
   ],
   "source": [
    "def evaluate_for_all_k(training_data, training_labels, test_data, test_labels):\n",
    "    k_set = (1,3,5,10,20,50,100,200)\n",
    "    accuracy = []\n",
    "    times = []\n",
    "    precision = []\n",
    "    results = []\n",
    "    for i in range(len(k_set)):\n",
    "        start = time.time()\n",
    "        val = (evaluate_classifier(training_data, training_labels, test_data, test_labels, k_set[i]))\n",
    "        print(val)\n",
    "        end = time.time()\n",
    "        times.append(end - start)\n",
    "        print('K: ' + str(k_set[i]))\n",
    "        if val[1][0] == 0:\n",
    "            print('Accuracy: ' + str(val[0]) + ', Precision : ' + str(0))\n",
    "            precision.append(0)\n",
    "        else:\n",
    "            print('Accuracy: ' + str(val[0]) + ', Precision : ' + str(val[2][0][1] / val[1][0]))\n",
    "            precision.append(val[2][0][1] / val[1][0])\n",
    "        print('Runtime: ' + str(end - start))\n",
    "        accuracy.append(val[0])\n",
    "    results.append(accuracy)\n",
    "    results.append(precision)\n",
    "    results.append(times)\n",
    "    return results\n",
    "print('The accuracy and runtime results for different k values: ')\n",
    "test_results = evaluate_for_all_k(training_features, training_labels, valid_features, valid_labels)"
   ]
  },
  {
   "cell_type": "code",
   "execution_count": null,
   "metadata": {},
   "outputs": [],
   "source": [
    "def main():\n",
    "    # Data imports done when you run the script from the beginning\n",
    "    test_results = evaluate_for_all_k(training_features, training_labels, valid_features, valid_labels) # Executes the kNN classifier for all k values.\n",
    "    print(test_results)\n",
    "main()"
   ]
  },
  {
   "cell_type": "code",
   "execution_count": 26,
   "metadata": {},
   "outputs": [
    {
     "data": {
      "image/png": "[encoded data removed]",
      "text/plain": [
       "<Figure size 432x288 with 1 Axes>"
      ]
     },
     "metadata": {
      "needs_background": "light"
     },
     "output_type": "display_data"
    }
   ],
   "source": [
    "# Plotting k value versus accuracy\n",
    "accuracies = test_results[0]\n",
    "k_values = ['1','3','5','10','20','50','100','200']\n",
    "plt.bar(k_values, accuracies)\n",
    "plt.xlabel('K values')\n",
    "plt.ylabel('Accuracy')\n",
    "plt.title('K value vs Accuracy')\n",
    "plt.show()"
   ]
  },
  {
   "cell_type": "code",
   "execution_count": 27,
   "metadata": {},
   "outputs": [
    {
     "data": {
      "image/png": "[encoded data removed]",
      "text/plain": [
       "<Figure size 432x288 with 1 Axes>"
      ]
     },
     "metadata": {
      "needs_background": "light"
     },
     "output_type": "display_data"
    }
   ],
   "source": [
    "# For a closer view\n",
    "plt.bar(k_values[0:5], accuracies[0:5])\n",
    "plt.xlabel('K values')\n",
    "plt.ylabel('Accuracy')\n",
    "plt.title('K value vs Accuracy for k set (1,3,5,10,20)')\n",
    "plt.show()"
   ]
  },
  {
   "cell_type": "code",
   "execution_count": 28,
   "metadata": {},
   "outputs": [
    {
     "data": {
      "text/html": [
       "<div>\n",
       "<style scoped>\n",
       "    .dataframe tbody tr th:only-of-type {\n",
       "        vertical-align: middle;\n",
       "    }\n",
       "\n",
       "    .dataframe tbody tr th {\n",
       "        vertical-align: top;\n",
       "    }\n",
       "\n",
       "    .dataframe thead th {\n",
       "        text-align: right;\n",
       "    }\n",
       "</style>\n",
       "<table border=\"1\" class=\"dataframe\">\n",
       "  <thead>\n",
       "    <tr style=\"text-align: right;\">\n",
       "      <th></th>\n",
       "      <th>K value</th>\n",
       "      <th>Accuracy</th>\n",
       "    </tr>\n",
       "  </thead>\n",
       "  <tbody>\n",
       "    <tr>\n",
       "      <th>0</th>\n",
       "      <td>1</td>\n",
       "      <td>0.783841</td>\n",
       "    </tr>\n",
       "    <tr>\n",
       "      <th>1</th>\n",
       "      <td>3</td>\n",
       "      <td>0.883526</td>\n",
       "    </tr>\n",
       "    <tr>\n",
       "      <th>2</th>\n",
       "      <td>5</td>\n",
       "      <td>0.864638</td>\n",
       "    </tr>\n",
       "    <tr>\n",
       "      <th>3</th>\n",
       "      <td>10</td>\n",
       "      <td>0.831060</td>\n",
       "    </tr>\n",
       "    <tr>\n",
       "      <th>4</th>\n",
       "      <td>20</td>\n",
       "      <td>0.821616</td>\n",
       "    </tr>\n",
       "    <tr>\n",
       "      <th>5</th>\n",
       "      <td>50</td>\n",
       "      <td>0.799580</td>\n",
       "    </tr>\n",
       "    <tr>\n",
       "      <th>6</th>\n",
       "      <td>100</td>\n",
       "      <td>0.799580</td>\n",
       "    </tr>\n",
       "    <tr>\n",
       "      <th>7</th>\n",
       "      <td>200</td>\n",
       "      <td>0.799580</td>\n",
       "    </tr>\n",
       "  </tbody>\n",
       "</table>\n",
       "</div>"
      ],
      "text/plain": [
       "  K value  Accuracy\n",
       "0       1  0.783841\n",
       "1       3  0.883526\n",
       "2       5  0.864638\n",
       "3      10  0.831060\n",
       "4      20  0.821616\n",
       "5      50  0.799580\n",
       "6     100  0.799580\n",
       "7     200  0.799580"
      ]
     },
     "execution_count": 28,
     "metadata": {},
     "output_type": "execute_result"
    }
   ],
   "source": [
    "# K value and accuracy table for a final view\n",
    "acc_vs_k = pd.DataFrame({'K value': k_values, 'Accuracy': accuracies})\n",
    "acc_vs_k"
   ]
  },
  {
   "cell_type": "code",
   "execution_count": 29,
   "metadata": {},
   "outputs": [
    {
     "data": {
      "image/png": "[encoded data removed]",
      "text/plain": [
       "<Figure size 432x288 with 1 Axes>"
      ]
     },
     "metadata": {
      "needs_background": "light"
     },
     "output_type": "display_data"
    }
   ],
   "source": [
    "# Plotting k value versus runtime\n",
    "runtimes = test_results[2]\n",
    "plt.plot(k_values, runtimes)\n",
    "plt.xlabel('K value')\n",
    "plt.ylabel('Runtime(seconds)')\n",
    "plt.title('K value vs Difference in runtimes')\n",
    "plt.show()"
   ]
  },
  {
   "cell_type": "code",
   "execution_count": 30,
   "metadata": {},
   "outputs": [
    {
     "data": {
      "text/html": [
       "<div>\n",
       "<style scoped>\n",
       "    .dataframe tbody tr th:only-of-type {\n",
       "        vertical-align: middle;\n",
       "    }\n",
       "\n",
       "    .dataframe tbody tr th {\n",
       "        vertical-align: top;\n",
       "    }\n",
       "\n",
       "    .dataframe thead th {\n",
       "        text-align: right;\n",
       "    }\n",
       "</style>\n",
       "<table border=\"1\" class=\"dataframe\">\n",
       "  <thead>\n",
       "    <tr style=\"text-align: right;\">\n",
       "      <th></th>\n",
       "      <th>K values</th>\n",
       "      <th>Runtime(seconds)</th>\n",
       "    </tr>\n",
       "  </thead>\n",
       "  <tbody>\n",
       "    <tr>\n",
       "      <th>0</th>\n",
       "      <td>1</td>\n",
       "      <td>560.783943</td>\n",
       "    </tr>\n",
       "    <tr>\n",
       "      <th>1</th>\n",
       "      <td>3</td>\n",
       "      <td>540.609758</td>\n",
       "    </tr>\n",
       "    <tr>\n",
       "      <th>2</th>\n",
       "      <td>5</td>\n",
       "      <td>565.049971</td>\n",
       "    </tr>\n",
       "    <tr>\n",
       "      <th>3</th>\n",
       "      <td>10</td>\n",
       "      <td>552.798220</td>\n",
       "    </tr>\n",
       "    <tr>\n",
       "      <th>4</th>\n",
       "      <td>20</td>\n",
       "      <td>589.251630</td>\n",
       "    </tr>\n",
       "    <tr>\n",
       "      <th>5</th>\n",
       "      <td>50</td>\n",
       "      <td>591.774106</td>\n",
       "    </tr>\n",
       "    <tr>\n",
       "      <th>6</th>\n",
       "      <td>100</td>\n",
       "      <td>560.413111</td>\n",
       "    </tr>\n",
       "    <tr>\n",
       "      <th>7</th>\n",
       "      <td>200</td>\n",
       "      <td>578.966843</td>\n",
       "    </tr>\n",
       "  </tbody>\n",
       "</table>\n",
       "</div>"
      ],
      "text/plain": [
       "  K values  Runtime(seconds)\n",
       "0        1        560.783943\n",
       "1        3        540.609758\n",
       "2        5        565.049971\n",
       "3       10        552.798220\n",
       "4       20        589.251630\n",
       "5       50        591.774106\n",
       "6      100        560.413111\n",
       "7      200        578.966843"
      ]
     },
     "execution_count": 30,
     "metadata": {},
     "output_type": "execute_result"
    }
   ],
   "source": [
    "# Plotting k values and runtime values as a final insight\n",
    "time_vs_k = pd.DataFrame({'K values': k_values, 'Runtime(seconds)': runtimes})\n",
    "time_vs_k"
   ]
  },
  {
   "cell_type": "code",
   "execution_count": 31,
   "metadata": {},
   "outputs": [
    {
     "data": {
      "image/png": "[encoded data removed]",
      "text/plain": [
       "<Figure size 432x288 with 1 Axes>"
      ]
     },
     "metadata": {
      "needs_background": "light"
     },
     "output_type": "display_data"
    }
   ],
   "source": [
    "# Plotting k value versus precision\n",
    "precision = test_results[1]\n",
    "plt.plot(k_values, precision)\n",
    "plt.xlabel('K value')\n",
    "plt.ylabel('Precision')\n",
    "plt.title('K value vs Precision')\n",
    "plt.show()"
   ]
  },
  {
   "cell_type": "code",
   "execution_count": 32,
   "metadata": {},
   "outputs": [
    {
     "data": {
      "text/html": [
       "<div>\n",
       "<style scoped>\n",
       "    .dataframe tbody tr th:only-of-type {\n",
       "        vertical-align: middle;\n",
       "    }\n",
       "\n",
       "    .dataframe tbody tr th {\n",
       "        vertical-align: top;\n",
       "    }\n",
       "\n",
       "    .dataframe thead th {\n",
       "        text-align: right;\n",
       "    }\n",
       "</style>\n",
       "<table border=\"1\" class=\"dataframe\">\n",
       "  <thead>\n",
       "    <tr style=\"text-align: right;\">\n",
       "      <th></th>\n",
       "      <th>K values</th>\n",
       "      <th>Precision</th>\n",
       "    </tr>\n",
       "  </thead>\n",
       "  <tbody>\n",
       "    <tr>\n",
       "      <th>0</th>\n",
       "      <td>1</td>\n",
       "      <td>0.474747</td>\n",
       "    </tr>\n",
       "    <tr>\n",
       "      <th>1</th>\n",
       "      <td>3</td>\n",
       "      <td>0.908163</td>\n",
       "    </tr>\n",
       "    <tr>\n",
       "      <th>2</th>\n",
       "      <td>5</td>\n",
       "      <td>0.969697</td>\n",
       "    </tr>\n",
       "    <tr>\n",
       "      <th>3</th>\n",
       "      <td>10</td>\n",
       "      <td>0.941176</td>\n",
       "    </tr>\n",
       "    <tr>\n",
       "      <th>4</th>\n",
       "      <td>20</td>\n",
       "      <td>1.000000</td>\n",
       "    </tr>\n",
       "    <tr>\n",
       "      <th>5</th>\n",
       "      <td>50</td>\n",
       "      <td>0.000000</td>\n",
       "    </tr>\n",
       "    <tr>\n",
       "      <th>6</th>\n",
       "      <td>100</td>\n",
       "      <td>0.000000</td>\n",
       "    </tr>\n",
       "    <tr>\n",
       "      <th>7</th>\n",
       "      <td>200</td>\n",
       "      <td>0.000000</td>\n",
       "    </tr>\n",
       "  </tbody>\n",
       "</table>\n",
       "</div>"
      ],
      "text/plain": [
       "  K values  Precision\n",
       "0        1   0.474747\n",
       "1        3   0.908163\n",
       "2        5   0.969697\n",
       "3       10   0.941176\n",
       "4       20   1.000000\n",
       "5       50   0.000000\n",
       "6      100   0.000000\n",
       "7      200   0.000000"
      ]
     },
     "execution_count": 32,
     "metadata": {},
     "output_type": "execute_result"
    }
   ],
   "source": [
    "precision_vs_k = pd.DataFrame({'K values' : k_values, 'Precision' : precision})\n",
    "precision_vs_k"
   ]
  },
  {
   "cell_type": "code",
   "execution_count": null,
   "metadata": {},
   "outputs": [],
   "source": []
  }
 ],
 "metadata": {
  "kernelspec": {
   "display_name": "Python 3",
   "language": "python",
   "name": "python3"
  },
  "language_info": {
   "codemirror_mode": {
    "name": "ipython",
    "version": 3
   },
   "file_extension": ".py",
   "mimetype": "text/x-python",
   "name": "python",
   "nbconvert_exporter": "python",
   "pygments_lexer": "ipython3",
   "version": "3.7.3"
  }
 },
 "nbformat": 4,
 "nbformat_minor": 2
}
