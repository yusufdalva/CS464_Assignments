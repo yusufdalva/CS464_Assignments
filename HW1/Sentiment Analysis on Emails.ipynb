{
 "cells": [
  {
   "cell_type": "code",
   "execution_count": 134,
   "metadata": {},
   "outputs": [],
   "source": [
    "# TODO - Necessary imports\n",
    "import os\n",
    "import csv\n",
    "import math\n",
    "import pandas as pd\n",
    "import operator\n",
    "import random as rnd\n",
    "import numpy as np\n",
    "import matplotlib.pyplot as plt\n",
    "import matplotlib.image as img\n",
    "import sys\n",
    "import seaborn as sb"
   ]
  },
  {
   "cell_type": "code",
   "execution_count": 11,
   "metadata": {},
   "outputs": [
    {
     "name": "stdout",
     "output_type": "stream",
     "text": [
      "INFO: Training data features scanned\n",
      "INFO: Training data labels scanned\n",
      "INFO: Test data features scanned\n",
      "INFO: Test data labels scanned\n",
      "Data scan completed\n"
     ]
    }
   ],
   "source": [
    "# Data imports\n",
    "print('INFO: Starting data scan')\n",
    "test_data_tables = ['question-4-test-features.csv', 'question-4-test-labels.csv']\n",
    "train_data_tables = ['question-4-train-features.csv', 'question-4-train-labels.csv']\n",
    "train_features = pd.read_csv(train_data_tables[0], header=None).to_numpy()\n",
    "print('INFO: Training data features scanned')\n",
    "train_labels = pd.read_csv(train_data_tables[1], header=None).to_numpy()\n",
    "print('INFO: Training data labels scanned')\n",
    "test_features = pd.read_csv(test_data_tables[0], header=None).to_numpy()\n",
    "print('INFO: Test data features scanned')\n",
    "test_labels = pd.read_csv(test_data_tables[1], header=None).to_numpy()\n",
    "print('INFO: Test data labels scanned')\n",
    "vocabulary = pd.read_csv('question-4-vocab.txt', sep = '\\n', header = None)\n",
    "print('INFO: Vocabulary scanned')\n",
    "print('Data scan completed')"
   ]
  },
  {
   "cell_type": "code",
   "execution_count": 35,
   "metadata": {},
   "outputs": [
    {
     "name": "stdout",
     "output_type": "stream",
     "text": [
      "(800, 37358)\n",
      "(800, 37358)\n",
      "(800, 37358)\n",
      "(800, 37358)\n"
     ]
    }
   ],
   "source": [
    "# Dividing documents into 4 subclasses\n",
    "medicine_class = []\n",
    "space_class = []\n",
    "cryp_class = []\n",
    "elec_class = []\n",
    "def classify_documents(data_features, data_labels):\n",
    "    for idx in range(data_labels.size):\n",
    "        data = np.asarray(data_features[idx])\n",
    "        if data_labels[idx][0] == 0:\n",
    "            medicine_class.append(data)\n",
    "        elif data_labels[idx][0] == 1:\n",
    "            space_class.append(data)\n",
    "        elif data_labels[idx][0] == 2:\n",
    "            cryp_class.append(data)\n",
    "        elif data_labels[idx][0] == 3:\n",
    "            elec_class.append(data)\n",
    "classify_documents(train_features, train_labels)\n",
    "medicine_train = np.asarray(medicine_class)\n",
    "space_train = np.asarray(space_class)\n",
    "cryp_train = np.asarray(cryp_class)\n",
    "elec_train = np.asarray(elec_class)"
   ]
  },
  {
   "cell_type": "code",
   "execution_count": 121,
   "metadata": {},
   "outputs": [
    {
     "data": {
      "text/plain": [
       "array([[ 0.,  0.,  0., ..., 14.,  0.,  0.],\n",
       "       [ 0.,  0.,  0., ...,  4.,  0.,  0.],\n",
       "       [ 0.,  0.,  0., ..., 10.,  1.,  0.],\n",
       "       [ 0.,  2.,  0., ...,  1.,  0.,  0.]])"
      ]
     },
     "execution_count": 121,
     "metadata": {},
     "output_type": "execute_result"
    }
   ],
   "source": [
    "# Form series including the cumulative word count in a document (Documents) x (No of occurances of each word)\n",
    "def compute_word_count(train_set):\n",
    "    word_count = np.zeros(train_set.shape[1])\n",
    "    for idx in range(train_set.shape[0]):\n",
    "        word_count = np.add(word_count, train_set[idx])\n",
    "    return word_count\n",
    "def compute_total_word_counts(medicine_set, space_set, cryp_set, elec_set):\n",
    "    word_counts = []\n",
    "    word_counts.append(compute_word_count(medicine_set))\n",
    "    word_counts.append(compute_word_count(space_set))\n",
    "    word_counts.append(compute_word_count(cryp_set))\n",
    "    word_counts.append(compute_word_count(elec_set))\n",
    "    return np.array(word_counts)\n",
    "total_word_counts = compute_total_word_counts(medicine_train, space_train, cryp_train, elec_train)\n",
    "total_word_counts"
   ]
  },
  {
   "cell_type": "code",
   "execution_count": 123,
   "metadata": {},
   "outputs": [
    {
     "name": "stdout",
     "output_type": "stream",
     "text": [
      "[[0.00000000e+00 0.00000000e+00 0.00000000e+00 ... 1.40411405e-04\n",
      "  0.00000000e+00 0.00000000e+00]\n",
      " [0.00000000e+00 0.00000000e+00 0.00000000e+00 ... 3.80843569e-05\n",
      "  0.00000000e+00 0.00000000e+00]\n",
      " [0.00000000e+00 0.00000000e+00 0.00000000e+00 ... 8.93663035e-05\n",
      "  8.93663035e-06 0.00000000e+00]\n",
      " [0.00000000e+00 3.27091340e-05 0.00000000e+00 ... 1.63545670e-05\n",
      "  0.00000000e+00 0.00000000e+00]]\n",
      "Parameters calculated\n"
     ]
    }
   ],
   "source": [
    "# TODO - Form matrix including learned parameters\n",
    "def form_parameter_matrix(sets, a):\n",
    "    dist_word_count = sets[0].size\n",
    "    param_matrix = np.zeros([4, dist_word_count])\n",
    "    sums = np.zeros(4)\n",
    "    for i in range(4):\n",
    "        word_count = np.sum(sets[i])\n",
    "        for word in range(sets[i].size):\n",
    "            param_matrix[i][word] = (sets[i][word] + a) / (word_count + sets[i].size * a)\n",
    "    return param_matrix\n",
    "MLE_params = form_parameter_matrix(total_word_counts, 0)\n",
    "print(MLE_params)\n",
    "print('Parameters calculated')"
   ]
  },
  {
   "cell_type": "code",
   "execution_count": 124,
   "metadata": {},
   "outputs": [
    {
     "name": "stdout",
     "output_type": "stream",
     "text": [
      "Document type parameters used for estimation: -1.3862943611198906,-1.3862943611198906,-1.3862943611198906,-1.3862943611198906\n"
     ]
    }
   ],
   "source": [
    "p_medicine = math.log(medicine_train.shape[0] / train_features.shape[0])\n",
    "p_space = math.log(space_train.shape[0] / train_features.shape[0])\n",
    "p_cryp = math.log(cryp_train.shape[0] / train_features.shape[0])\n",
    "p_elec = math.log(elec_train.shape[0] / train_features.shape[0])\n",
    "print('Document type parameters used for estimation: ' + str(p_medicine) + ',' + str(p_space) + ',' + str(p_cryp) + ',' + str(p_elec))\n",
    "# TODO - MLE Predictor for a document\n",
    "def predict_document(data_to_predict, variables):\n",
    "    type_0 = p_medicine # Assuming it has type medicine\n",
    "    type_1 = p_space # Assuming it has type space\n",
    "    type_2 = p_cryp # Assuming it has type cryptology\n",
    "    type_3 = p_elec # Assuming it has type space\n",
    "    flags = [0,0,0,0]\n",
    "    for i in range(data_to_predict.size):\n",
    "        if flags[0] == 0:\n",
    "            if (data_to_predict[i] == 0 and variables[0][i] == 0):\n",
    "                type_0 += 0\n",
    "            elif variables[0][i] == 0:\n",
    "                flags[0] = 1\n",
    "                type_0 = -1 * math.inf # smallest number in python as (-infinity)\n",
    "            else:\n",
    "                type_0 += (data_to_predict[i]) * math.log(variables[0][i])\n",
    "        if flags[1] == 0:\n",
    "            if (data_to_predict[i] == 0 and variables[1][i] == 0):\n",
    "                type_1 += 0\n",
    "            elif variables[1][i] == 0:\n",
    "                flags[1] = 1\n",
    "                type_1 = -1 * math.inf # smallest number in python as (-infinity)\n",
    "            else:\n",
    "                type_1 += (data_to_predict[i]) * math.log(variables[1][i]) \n",
    "        if flags[2] == 0:\n",
    "            if (data_to_predict[i] == 0 and variables[2][i] == 0):\n",
    "                type_2 += 0\n",
    "            elif variables[2][i] == 0:\n",
    "                flags[2] = 1\n",
    "                type_2 = -1 * math.inf # smallest number in python as (-infinity)\n",
    "            else:\n",
    "                type_2 += (data_to_predict[i]) * math.log(variables[2][i])\n",
    "        if flags[3] == 0:\n",
    "            if (data_to_predict[i] == 0 and variables[3][i] == 0):\n",
    "                type_3 += 0\n",
    "            elif variables[3][i] == 0:\n",
    "                flags[3] = 1\n",
    "                type_3 = -1 * math.inf\n",
    "            else:\n",
    "                type_3 += (data_to_predict[i]) * math.log(variables[3][i])\n",
    "    results = [] # Will store the results as tuples (maxiimized_parameter, document code)\n",
    "    results.append((type_0, 0))\n",
    "    results.append((type_1, 1))\n",
    "    results.append((type_2, 2))\n",
    "    results.append((type_3, 3))\n",
    "    results.sort(key=operator.itemgetter(0), reverse=True)\n",
    "    max_value = results[0][0]\n",
    "    if results[1][0] == max_value:\n",
    "        return 1\n",
    "    return results[0][1]"
   ]
  },
  {
   "cell_type": "code",
   "execution_count": 234,
   "metadata": {},
   "outputs": [],
   "source": [
    "# MLE analysis method\n",
    "def analysis(features, labels, params):\n",
    "    # Results are organized in terms of tuples - A tuple for medicine documents will be (false_medicine, true_medicine, total_medicine)\n",
    "    totals = [[0, 0, 0], [0, 0, 0], [0, 0, 0], [0, 0, 0]] # Indexes are same with document number\n",
    "    true_pred = 0\n",
    "    total_pred = 0\n",
    "    for i in range(labels.size):\n",
    "        guess = predict_document(features[i], params)\n",
    "        if guess == labels[i][0]:\n",
    "            true_pred += 1\n",
    "            total_pred += 1\n",
    "            totals[guess][2] += 1\n",
    "            totals[guess][1] += 1\n",
    "        else:\n",
    "            total_pred += 1\n",
    "            totals[guess][2] += 1\n",
    "            totals[guess][0] += 1\n",
    "    return [totals, (true_pred / total_pred)]"
   ]
  },
  {
   "cell_type": "code",
   "execution_count": 125,
   "metadata": {},
   "outputs": [
    {
     "name": "stdout",
     "output_type": "stream",
     "text": [
      "Data 29 predicted\n",
      "Data 59 predicted\n",
      "Data 89 predicted\n",
      "Data 119 predicted\n",
      "Data 149 predicted\n",
      "Data 179 predicted\n",
      "Data 209 predicted\n",
      "Data 239 predicted\n",
      "Data 269 predicted\n",
      "Data 299 predicted\n",
      "Data 329 predicted\n",
      "Data 359 predicted\n",
      "Data 389 predicted\n",
      "Data 419 predicted\n",
      "Data 449 predicted\n",
      "Data 479 predicted\n",
      "Data 509 predicted\n",
      "Data 539 predicted\n",
      "Data 569 predicted\n",
      "Data 599 predicted\n",
      "Data 629 predicted\n",
      "Data 659 predicted\n",
      "Data 689 predicted\n",
      "Data 719 predicted\n",
      "Data 749 predicted\n",
      "Data 779 predicted\n"
     ]
    },
    {
     "data": {
      "text/plain": [
       "[[[0, 7, 7], [575, 200, 775], [1, 9, 10], [0, 8, 8]], 0.28]"
      ]
     },
     "execution_count": 125,
     "metadata": {},
     "output_type": "execute_result"
    }
   ],
   "source": [
    "# Getting MLE results\n",
    "MLE_data = analysis(test_features, test_labels, MLE_params)\n",
    "MLE_data"
   ]
  },
  {
   "cell_type": "code",
   "execution_count": 127,
   "metadata": {},
   "outputs": [
    {
     "data": {
      "text/plain": [
       "array([[7.29580856e-06, 7.29580856e-06, 7.29580856e-06, ...,\n",
       "        1.09437128e-04, 7.29580856e-06, 7.29580856e-06],\n",
       "       [7.02306374e-06, 7.02306374e-06, 7.02306374e-06, ...,\n",
       "        3.51153187e-05, 7.02306374e-06, 7.02306374e-06],\n",
       "       [6.69985327e-06, 6.69985327e-06, 6.69985327e-06, ...,\n",
       "        7.36983860e-05, 1.33997065e-05, 6.69985327e-06],\n",
       "       [1.01519751e-05, 3.04559252e-05, 1.01519751e-05, ...,\n",
       "        2.03039501e-05, 1.01519751e-05, 1.01519751e-05]])"
      ]
     },
     "execution_count": 127,
     "metadata": {},
     "output_type": "execute_result"
    }
   ],
   "source": [
    "# Getting MAP results\n",
    "MAP_matrix = form_parameter_matrix(total_word_counts, 1)\n",
    "MAP_matrix"
   ]
  },
  {
   "cell_type": "code",
   "execution_count": 128,
   "metadata": {},
   "outputs": [
    {
     "name": "stdout",
     "output_type": "stream",
     "text": [
      "Data 29 predicted\n",
      "Data 59 predicted\n",
      "Data 89 predicted\n",
      "Data 119 predicted\n",
      "Data 149 predicted\n",
      "Data 179 predicted\n",
      "Data 209 predicted\n",
      "Data 239 predicted\n",
      "Data 269 predicted\n",
      "Data 299 predicted\n",
      "Data 329 predicted\n",
      "Data 359 predicted\n",
      "Data 389 predicted\n",
      "Data 419 predicted\n",
      "Data 449 predicted\n",
      "Data 479 predicted\n",
      "Data 509 predicted\n",
      "Data 539 predicted\n",
      "Data 569 predicted\n",
      "Data 599 predicted\n",
      "Data 629 predicted\n",
      "Data 659 predicted\n",
      "Data 689 predicted\n",
      "Data 719 predicted\n",
      "Data 749 predicted\n",
      "Data 779 predicted\n"
     ]
    },
    {
     "data": {
      "text/plain": [
       "[[[7, 180, 187], [14, 191, 205], [18, 187, 205], [22, 181, 203]], 0.92375]"
      ]
     },
     "execution_count": 128,
     "metadata": {},
     "output_type": "execute_result"
    }
   ],
   "source": [
    "# TODO - MAP analysis method\n",
    "MAP_data = analysis(test_features, test_labels, MAP_matrix)\n",
    "MAP_data"
   ]
  },
  {
   "cell_type": "code",
   "execution_count": 139,
   "metadata": {},
   "outputs": [
    {
     "data": {
      "image/png": "[encoded data removed]",
      "text/plain": [
       "<Figure size 720x504 with 2 Axes>"
      ]
     },
     "metadata": {
      "needs_background": "light"
     },
     "output_type": "display_data"
    }
   ],
   "source": [
    "# Plot of the values in confusion matrix for MLE estimator\n",
    "confusion_matrix_MLE = []\n",
    "for idx in range(len(MLE_data[0])):\n",
    "    confusion_matrix_MLE.append([MLE_data[0][idx][0], MLE_data[0][idx][1]]) # False predictions in index 0, true predictions in index 1\n",
    "confusion_matrix_MLE = pd.DataFrame(confusion_matrix_MLE, columns = ['False', 'True'], index = ['Medicine', 'Space', 'Cryptography', 'Electronics'])\n",
    "plt.figure(figsize = (10,7))\n",
    "sb.heatmap(confusion_matrix_MLE, annot = True)\n",
    "plt.show()"
   ]
  },
  {
   "cell_type": "code",
   "execution_count": 140,
   "metadata": {},
   "outputs": [
    {
     "data": {
      "image/png": "[encoded data removed]",
      "text/plain": [
       "<Figure size 720x504 with 2 Axes>"
      ]
     },
     "metadata": {
      "needs_background": "light"
     },
     "output_type": "display_data"
    }
   ],
   "source": [
    "# Confusion Matrix for MAP estimator\n",
    "confusion_matrix_MAP = []\n",
    "for idx in range(len(MAP_data[0])):\n",
    "    confusion_matrix_MAP.append([MAP_data[0][idx][0], MAP_data[0][idx][1]]) # column 1 includes false values, column 2 includes true values\n",
    "confusion_matrix_MAP = pd.DataFrame(confusion_matrix_MAP, columns = ['False', 'True'], \n",
    "                                    index = ['Medicine', 'Space', 'Cryptography', 'Electronics'])\n",
    "plt.figure(figsize = (10,7))\n",
    "sb.heatmap(confusion_matrix_MAP, annot = True)\n",
    "plt.show()"
   ]
  },
  {
   "cell_type": "code",
   "execution_count": 141,
   "metadata": {},
   "outputs": [
    {
     "data": {
      "image/png": "[encoded data removed]",
      "text/plain": [
       "<Figure size 432x288 with 1 Axes>"
      ]
     },
     "metadata": {
      "needs_background": "light"
     },
     "output_type": "display_data"
    }
   ],
   "source": [
    "# MAP vs MLE accuracy comparison\n",
    "plt.bar(['MLE', 'MAP'], [MLE_data[1], MAP_data[1]])\n",
    "plt.title('MLE vs MAP accuracy comparison')\n",
    "plt.xlabel('Classifier Type')\n",
    "plt.ylabel('Accuracy')\n",
    "plt.show()"
   ]
  },
  {
   "cell_type": "code",
   "execution_count": 183,
   "metadata": {},
   "outputs": [],
   "source": [
    "# Form words versus occurances and give the max occured 20 words\n",
    "def get_word_count_mapping(occurrance_matrix):\n",
    "    words = []\n",
    "    for doc_class in occurrance_matrix:\n",
    "        words.append(pd.DataFrame(doc_class, index = vocabulary, columns = ['Word count']))\n",
    "    return words\n",
    "def get_most_frequent_20_words():\n",
    "    d_type = [('word', str), ('count', int)]\n",
    "    doc_word_count_matrix = get_word_count_mapping(total_word_counts)\n",
    "    types = ('medicine', 'space', 'cryptography', 'electronics')\n",
    "    tables = []\n",
    "    for idx in range(len(doc_word_count_matrix)):\n",
    "        tables.append(doc_word_count_matrix[idx].sort_values(by=['Word count'], ascending=False)[0:20])\n",
    "    return tables\n",
    "most_likely_word_tables = get_most_frequent_20_words()"
   ]
  },
  {
   "cell_type": "code",
   "execution_count": 185,
   "metadata": {},
   "outputs": [
    {
     "name": "stdout",
     "output_type": "stream",
     "text": [
      "20 words having maximum word count for medicine documents: \n"
     ]
    },
    {
     "data": {
      "text/html": [
       "<div>\n",
       "<style scoped>\n",
       "    .dataframe tbody tr th:only-of-type {\n",
       "        vertical-align: middle;\n",
       "    }\n",
       "\n",
       "    .dataframe tbody tr th {\n",
       "        vertical-align: top;\n",
       "    }\n",
       "\n",
       "    .dataframe thead th {\n",
       "        text-align: right;\n",
       "    }\n",
       "</style>\n",
       "<table border=\"1\" class=\"dataframe\">\n",
       "  <thead>\n",
       "    <tr style=\"text-align: right;\">\n",
       "      <th></th>\n",
       "      <th>Word count</th>\n",
       "    </tr>\n",
       "  </thead>\n",
       "  <tbody>\n",
       "    <tr>\n",
       "      <th>(medical,)</th>\n",
       "      <td>428.0</td>\n",
       "    </tr>\n",
       "    <tr>\n",
       "      <th>(people,)</th>\n",
       "      <td>424.0</td>\n",
       "    </tr>\n",
       "    <tr>\n",
       "      <th>(health,)</th>\n",
       "      <td>375.0</td>\n",
       "    </tr>\n",
       "    <tr>\n",
       "      <th>(disease,)</th>\n",
       "      <td>351.0</td>\n",
       "    </tr>\n",
       "    <tr>\n",
       "      <th>(patients,)</th>\n",
       "      <td>314.0</td>\n",
       "    </tr>\n",
       "    <tr>\n",
       "      <th>(time,)</th>\n",
       "      <td>307.0</td>\n",
       "    </tr>\n",
       "    <tr>\n",
       "      <th>(msg,)</th>\n",
       "      <td>293.0</td>\n",
       "    </tr>\n",
       "    <tr>\n",
       "      <th>(food,)</th>\n",
       "      <td>281.0</td>\n",
       "    </tr>\n",
       "    <tr>\n",
       "      <th>(cancer,)</th>\n",
       "      <td>277.0</td>\n",
       "    </tr>\n",
       "    <tr>\n",
       "      <th>(hiv,)</th>\n",
       "      <td>244.0</td>\n",
       "    </tr>\n",
       "    <tr>\n",
       "      <th>(well,)</th>\n",
       "      <td>242.0</td>\n",
       "    </tr>\n",
       "    <tr>\n",
       "      <th>(years,)</th>\n",
       "      <td>230.0</td>\n",
       "    </tr>\n",
       "    <tr>\n",
       "      <th>(treatment,)</th>\n",
       "      <td>227.0</td>\n",
       "    </tr>\n",
       "    <tr>\n",
       "      <th>(number,)</th>\n",
       "      <td>209.0</td>\n",
       "    </tr>\n",
       "    <tr>\n",
       "      <th>(posting,)</th>\n",
       "      <td>209.0</td>\n",
       "    </tr>\n",
       "    <tr>\n",
       "      <th>(medicine,)</th>\n",
       "      <td>201.0</td>\n",
       "    </tr>\n",
       "    <tr>\n",
       "      <th>(help,)</th>\n",
       "      <td>199.0</td>\n",
       "    </tr>\n",
       "    <tr>\n",
       "      <th>(doctor,)</th>\n",
       "      <td>192.0</td>\n",
       "    </tr>\n",
       "    <tr>\n",
       "      <th>(study,)</th>\n",
       "      <td>188.0</td>\n",
       "    </tr>\n",
       "    <tr>\n",
       "      <th>(host,)</th>\n",
       "      <td>185.0</td>\n",
       "    </tr>\n",
       "  </tbody>\n",
       "</table>\n",
       "</div>"
      ],
      "text/plain": [
       "              Word count\n",
       "(medical,)         428.0\n",
       "(people,)          424.0\n",
       "(health,)          375.0\n",
       "(disease,)         351.0\n",
       "(patients,)        314.0\n",
       "(time,)            307.0\n",
       "(msg,)             293.0\n",
       "(food,)            281.0\n",
       "(cancer,)          277.0\n",
       "(hiv,)             244.0\n",
       "(well,)            242.0\n",
       "(years,)           230.0\n",
       "(treatment,)       227.0\n",
       "(number,)          209.0\n",
       "(posting,)         209.0\n",
       "(medicine,)        201.0\n",
       "(help,)            199.0\n",
       "(doctor,)          192.0\n",
       "(study,)           188.0\n",
       "(host,)            185.0"
      ]
     },
     "execution_count": 185,
     "metadata": {},
     "output_type": "execute_result"
    }
   ],
   "source": [
    "print('20 words having maximum word count for medicine documents: ')\n",
    "most_likely_word_tables[0]"
   ]
  },
  {
   "cell_type": "code",
   "execution_count": 186,
   "metadata": {},
   "outputs": [
    {
     "name": "stdout",
     "output_type": "stream",
     "text": [
      "20 words having maximum word count for space documents: \n",
      "None\n"
     ]
    },
    {
     "data": {
      "text/html": [
       "<div>\n",
       "<style scoped>\n",
       "    .dataframe tbody tr th:only-of-type {\n",
       "        vertical-align: middle;\n",
       "    }\n",
       "\n",
       "    .dataframe tbody tr th {\n",
       "        vertical-align: top;\n",
       "    }\n",
       "\n",
       "    .dataframe thead th {\n",
       "        text-align: right;\n",
       "    }\n",
       "</style>\n",
       "<table border=\"1\" class=\"dataframe\">\n",
       "  <thead>\n",
       "    <tr style=\"text-align: right;\">\n",
       "      <th></th>\n",
       "      <th>Word count</th>\n",
       "    </tr>\n",
       "  </thead>\n",
       "  <tbody>\n",
       "    <tr>\n",
       "      <th>(space,)</th>\n",
       "      <td>1447.0</td>\n",
       "    </tr>\n",
       "    <tr>\n",
       "      <th>(nasa,)</th>\n",
       "      <td>795.0</td>\n",
       "    </tr>\n",
       "    <tr>\n",
       "      <th>(launch,)</th>\n",
       "      <td>408.0</td>\n",
       "    </tr>\n",
       "    <tr>\n",
       "      <th>(earth,)</th>\n",
       "      <td>380.0</td>\n",
       "    </tr>\n",
       "    <tr>\n",
       "      <th>(system,)</th>\n",
       "      <td>344.0</td>\n",
       "    </tr>\n",
       "    <tr>\n",
       "      <th>(time,)</th>\n",
       "      <td>337.0</td>\n",
       "    </tr>\n",
       "    <tr>\n",
       "      <th>(posting,)</th>\n",
       "      <td>324.0</td>\n",
       "    </tr>\n",
       "    <tr>\n",
       "      <th>(orbit,)</th>\n",
       "      <td>317.0</td>\n",
       "    </tr>\n",
       "    <tr>\n",
       "      <th>(moon,)</th>\n",
       "      <td>305.0</td>\n",
       "    </tr>\n",
       "    <tr>\n",
       "      <th>(data,)</th>\n",
       "      <td>298.0</td>\n",
       "    </tr>\n",
       "    <tr>\n",
       "      <th>(host,)</th>\n",
       "      <td>282.0</td>\n",
       "    </tr>\n",
       "    <tr>\n",
       "      <th>(shuttle,)</th>\n",
       "      <td>273.0</td>\n",
       "    </tr>\n",
       "    <tr>\n",
       "      <th>(people,)</th>\n",
       "      <td>265.0</td>\n",
       "    </tr>\n",
       "    <tr>\n",
       "      <th>(net,)</th>\n",
       "      <td>263.0</td>\n",
       "    </tr>\n",
       "    <tr>\n",
       "      <th>(spacecraft,)</th>\n",
       "      <td>259.0</td>\n",
       "    </tr>\n",
       "    <tr>\n",
       "      <th>(satellite,)</th>\n",
       "      <td>255.0</td>\n",
       "    </tr>\n",
       "    <tr>\n",
       "      <th>(solar,)</th>\n",
       "      <td>254.0</td>\n",
       "    </tr>\n",
       "    <tr>\n",
       "      <th>(message,)</th>\n",
       "      <td>250.0</td>\n",
       "    </tr>\n",
       "    <tr>\n",
       "      <th>(jpl,)</th>\n",
       "      <td>239.0</td>\n",
       "    </tr>\n",
       "    <tr>\n",
       "      <th>(lunar,)</th>\n",
       "      <td>238.0</td>\n",
       "    </tr>\n",
       "  </tbody>\n",
       "</table>\n",
       "</div>"
      ],
      "text/plain": [
       "               Word count\n",
       "(space,)           1447.0\n",
       "(nasa,)             795.0\n",
       "(launch,)           408.0\n",
       "(earth,)            380.0\n",
       "(system,)           344.0\n",
       "(time,)             337.0\n",
       "(posting,)          324.0\n",
       "(orbit,)            317.0\n",
       "(moon,)             305.0\n",
       "(data,)             298.0\n",
       "(host,)             282.0\n",
       "(shuttle,)          273.0\n",
       "(people,)           265.0\n",
       "(net,)              263.0\n",
       "(spacecraft,)       259.0\n",
       "(satellite,)        255.0\n",
       "(solar,)            254.0\n",
       "(message,)          250.0\n",
       "(jpl,)              239.0\n",
       "(lunar,)            238.0"
      ]
     },
     "execution_count": 186,
     "metadata": {},
     "output_type": "execute_result"
    }
   ],
   "source": [
    "print(print('20 words having maximum word count for space documents: '))\n",
    "most_likely_word_tables[1]"
   ]
  },
  {
   "cell_type": "code",
   "execution_count": 187,
   "metadata": {},
   "outputs": [
    {
     "name": "stdout",
     "output_type": "stream",
     "text": [
      "20 words having maximum word count for cryptography documents: \n"
     ]
    },
    {
     "data": {
      "text/html": [
       "<div>\n",
       "<style scoped>\n",
       "    .dataframe tbody tr th:only-of-type {\n",
       "        vertical-align: middle;\n",
       "    }\n",
       "\n",
       "    .dataframe tbody tr th {\n",
       "        vertical-align: top;\n",
       "    }\n",
       "\n",
       "    .dataframe thead th {\n",
       "        text-align: right;\n",
       "    }\n",
       "</style>\n",
       "<table border=\"1\" class=\"dataframe\">\n",
       "  <thead>\n",
       "    <tr style=\"text-align: right;\">\n",
       "      <th></th>\n",
       "      <th>Word count</th>\n",
       "    </tr>\n",
       "  </thead>\n",
       "  <tbody>\n",
       "    <tr>\n",
       "      <th>(key,)</th>\n",
       "      <td>1334.0</td>\n",
       "    </tr>\n",
       "    <tr>\n",
       "      <th>(encryption,)</th>\n",
       "      <td>873.0</td>\n",
       "    </tr>\n",
       "    <tr>\n",
       "      <th>(chip,)</th>\n",
       "      <td>711.0</td>\n",
       "    </tr>\n",
       "    <tr>\n",
       "      <th>(government,)</th>\n",
       "      <td>696.0</td>\n",
       "    </tr>\n",
       "    <tr>\n",
       "      <th>(clipper,)</th>\n",
       "      <td>649.0</td>\n",
       "    </tr>\n",
       "    <tr>\n",
       "      <th>(people,)</th>\n",
       "      <td>571.0</td>\n",
       "    </tr>\n",
       "    <tr>\n",
       "      <th>(system,)</th>\n",
       "      <td>534.0</td>\n",
       "    </tr>\n",
       "    <tr>\n",
       "      <th>(keys,)</th>\n",
       "      <td>516.0</td>\n",
       "    </tr>\n",
       "    <tr>\n",
       "      <th>(public,)</th>\n",
       "      <td>485.0</td>\n",
       "    </tr>\n",
       "    <tr>\n",
       "      <th>(privacy,)</th>\n",
       "      <td>481.0</td>\n",
       "    </tr>\n",
       "    <tr>\n",
       "      <th>(security,)</th>\n",
       "      <td>478.0</td>\n",
       "    </tr>\n",
       "    <tr>\n",
       "      <th>(message,)</th>\n",
       "      <td>461.0</td>\n",
       "    </tr>\n",
       "    <tr>\n",
       "      <th>(law,)</th>\n",
       "      <td>423.0</td>\n",
       "    </tr>\n",
       "    <tr>\n",
       "      <th>(des,)</th>\n",
       "      <td>363.0</td>\n",
       "    </tr>\n",
       "    <tr>\n",
       "      <th>(escrow,)</th>\n",
       "      <td>360.0</td>\n",
       "    </tr>\n",
       "    <tr>\n",
       "      <th>(phone,)</th>\n",
       "      <td>347.0</td>\n",
       "    </tr>\n",
       "    <tr>\n",
       "      <th>(time,)</th>\n",
       "      <td>342.0</td>\n",
       "    </tr>\n",
       "    <tr>\n",
       "      <th>(nsa,)</th>\n",
       "      <td>341.0</td>\n",
       "    </tr>\n",
       "    <tr>\n",
       "      <th>(data,)</th>\n",
       "      <td>338.0</td>\n",
       "    </tr>\n",
       "    <tr>\n",
       "      <th>(secure,)</th>\n",
       "      <td>329.0</td>\n",
       "    </tr>\n",
       "  </tbody>\n",
       "</table>\n",
       "</div>"
      ],
      "text/plain": [
       "               Word count\n",
       "(key,)             1334.0\n",
       "(encryption,)       873.0\n",
       "(chip,)             711.0\n",
       "(government,)       696.0\n",
       "(clipper,)          649.0\n",
       "(people,)           571.0\n",
       "(system,)           534.0\n",
       "(keys,)             516.0\n",
       "(public,)           485.0\n",
       "(privacy,)          481.0\n",
       "(security,)         478.0\n",
       "(message,)          461.0\n",
       "(law,)              423.0\n",
       "(des,)              363.0\n",
       "(escrow,)           360.0\n",
       "(phone,)            347.0\n",
       "(time,)             342.0\n",
       "(nsa,)              341.0\n",
       "(data,)             338.0\n",
       "(secure,)           329.0"
      ]
     },
     "execution_count": 187,
     "metadata": {},
     "output_type": "execute_result"
    }
   ],
   "source": [
    "print('20 words having maximum word count for cryptography documents: ')\n",
    "most_likely_word_tables[2]"
   ]
  },
  {
   "cell_type": "code",
   "execution_count": 188,
   "metadata": {},
   "outputs": [
    {
     "name": "stdout",
     "output_type": "stream",
     "text": [
      "20 words having maximum word count for electronics documents: \n"
     ]
    },
    {
     "data": {
      "text/html": [
       "<div>\n",
       "<style scoped>\n",
       "    .dataframe tbody tr th:only-of-type {\n",
       "        vertical-align: middle;\n",
       "    }\n",
       "\n",
       "    .dataframe tbody tr th {\n",
       "        vertical-align: top;\n",
       "    }\n",
       "\n",
       "    .dataframe thead th {\n",
       "        text-align: right;\n",
       "    }\n",
       "</style>\n",
       "<table border=\"1\" class=\"dataframe\">\n",
       "  <thead>\n",
       "    <tr style=\"text-align: right;\">\n",
       "      <th></th>\n",
       "      <th>Word count</th>\n",
       "    </tr>\n",
       "  </thead>\n",
       "  <tbody>\n",
       "    <tr>\n",
       "      <th>(power,)</th>\n",
       "      <td>266.0</td>\n",
       "    </tr>\n",
       "    <tr>\n",
       "      <th>(ground,)</th>\n",
       "      <td>250.0</td>\n",
       "    </tr>\n",
       "    <tr>\n",
       "      <th>(host,)</th>\n",
       "      <td>227.0</td>\n",
       "    </tr>\n",
       "    <tr>\n",
       "      <th>(work,)</th>\n",
       "      <td>216.0</td>\n",
       "    </tr>\n",
       "    <tr>\n",
       "      <th>(circuit,)</th>\n",
       "      <td>215.0</td>\n",
       "    </tr>\n",
       "    <tr>\n",
       "      <th>(posting,)</th>\n",
       "      <td>213.0</td>\n",
       "    </tr>\n",
       "    <tr>\n",
       "      <th>(time,)</th>\n",
       "      <td>210.0</td>\n",
       "    </tr>\n",
       "    <tr>\n",
       "      <th>(wire,)</th>\n",
       "      <td>200.0</td>\n",
       "    </tr>\n",
       "    <tr>\n",
       "      <th>(current,)</th>\n",
       "      <td>192.0</td>\n",
       "    </tr>\n",
       "    <tr>\n",
       "      <th>(copy,)</th>\n",
       "      <td>174.0</td>\n",
       "    </tr>\n",
       "    <tr>\n",
       "      <th>(message,)</th>\n",
       "      <td>163.0</td>\n",
       "    </tr>\n",
       "    <tr>\n",
       "      <th>(radio,)</th>\n",
       "      <td>159.0</td>\n",
       "    </tr>\n",
       "    <tr>\n",
       "      <th>(high,)</th>\n",
       "      <td>151.0</td>\n",
       "    </tr>\n",
       "    <tr>\n",
       "      <th>(help,)</th>\n",
       "      <td>150.0</td>\n",
       "    </tr>\n",
       "    <tr>\n",
       "      <th>(voltage,)</th>\n",
       "      <td>146.0</td>\n",
       "    </tr>\n",
       "    <tr>\n",
       "      <th>(well,)</th>\n",
       "      <td>142.0</td>\n",
       "    </tr>\n",
       "    <tr>\n",
       "      <th>(phone,)</th>\n",
       "      <td>137.0</td>\n",
       "    </tr>\n",
       "    <tr>\n",
       "      <th>(problem,)</th>\n",
       "      <td>135.0</td>\n",
       "    </tr>\n",
       "    <tr>\n",
       "      <th>(output,)</th>\n",
       "      <td>135.0</td>\n",
       "    </tr>\n",
       "    <tr>\n",
       "      <th>(amp,)</th>\n",
       "      <td>133.0</td>\n",
       "    </tr>\n",
       "  </tbody>\n",
       "</table>\n",
       "</div>"
      ],
      "text/plain": [
       "            Word count\n",
       "(power,)         266.0\n",
       "(ground,)        250.0\n",
       "(host,)          227.0\n",
       "(work,)          216.0\n",
       "(circuit,)       215.0\n",
       "(posting,)       213.0\n",
       "(time,)          210.0\n",
       "(wire,)          200.0\n",
       "(current,)       192.0\n",
       "(copy,)          174.0\n",
       "(message,)       163.0\n",
       "(radio,)         159.0\n",
       "(high,)          151.0\n",
       "(help,)          150.0\n",
       "(voltage,)       146.0\n",
       "(well,)          142.0\n",
       "(phone,)         137.0\n",
       "(problem,)       135.0\n",
       "(output,)        135.0\n",
       "(amp,)           133.0"
      ]
     },
     "execution_count": 188,
     "metadata": {},
     "output_type": "execute_result"
    }
   ],
   "source": [
    "print('20 words having maximum word count for electronics documents: ')\n",
    "most_likely_word_tables[3]"
   ]
  },
  {
   "cell_type": "code",
   "execution_count": 180,
   "metadata": {},
   "outputs": [
    {
     "data": {
      "text/html": [
       "<div>\n",
       "<style scoped>\n",
       "    .dataframe tbody tr th:only-of-type {\n",
       "        vertical-align: middle;\n",
       "    }\n",
       "\n",
       "    .dataframe tbody tr th {\n",
       "        vertical-align: top;\n",
       "    }\n",
       "\n",
       "    .dataframe thead th {\n",
       "        text-align: right;\n",
       "    }\n",
       "</style>\n",
       "<table border=\"1\" class=\"dataframe\">\n",
       "  <thead>\n",
       "    <tr style=\"text-align: right;\">\n",
       "      <th></th>\n",
       "      <th>With Max Prob</th>\n",
       "      <th>With Min Prob</th>\n",
       "    </tr>\n",
       "  </thead>\n",
       "  <tbody>\n",
       "    <tr>\n",
       "      <th>Medicine</th>\n",
       "      <td>medical</td>\n",
       "      <td>throes</td>\n",
       "    </tr>\n",
       "    <tr>\n",
       "      <th>Space</th>\n",
       "      <td>space</td>\n",
       "      <td>throes</td>\n",
       "    </tr>\n",
       "    <tr>\n",
       "      <th>Cryptography</th>\n",
       "      <td>key</td>\n",
       "      <td>throes</td>\n",
       "    </tr>\n",
       "    <tr>\n",
       "      <th>Electronics</th>\n",
       "      <td>power</td>\n",
       "      <td>throes</td>\n",
       "    </tr>\n",
       "  </tbody>\n",
       "</table>\n",
       "</div>"
      ],
      "text/plain": [
       "             With Max Prob With Min Prob\n",
       "Medicine           medical        throes\n",
       "Space                space        throes\n",
       "Cryptography           key        throes\n",
       "Electronics          power        throes"
      ]
     },
     "execution_count": 180,
     "metadata": {},
     "output_type": "execute_result"
    }
   ],
   "source": [
    "# Word with highest probability and lowest probability\n",
    "probability_matrix = form_parameter_matrix(total_word_counts, 0)\n",
    "def get_words_occuring_min_and_max(prob_matrix):\n",
    "    doc_types = ['Medicine', 'Space', 'Cryptography', 'Electronics']\n",
    "    results = []\n",
    "    for idx in range(prob_matrix.shape[0]):\n",
    "        prob_words = pd.DataFrame(prob_matrix[idx], columns = ['Ocurrance Probability'], index = vocabulary)\n",
    "        prob_words = prob_words.sort_values(by=['Ocurrance Probability'], ascending=False)\n",
    "        results.append((prob_words.index.values[0][0], prob_words.index.values[prob_matrix.shape[1] - 1][0]))\n",
    "    return pd.DataFrame(results, index = doc_types, columns = ['With Max Prob', 'With Min Prob'])\n",
    "get_words_occuring_min_and_max(probability_matrix)"
   ]
  },
  {
   "cell_type": "code",
   "execution_count": 232,
   "metadata": {},
   "outputs": [
    {
     "data": {
      "text/plain": [
       "[(622, 776), (622, 776), (622, 776), (622, 776)]"
      ]
     },
     "execution_count": 232,
     "metadata": {},
     "output_type": "execute_result"
    }
   ],
   "source": [
    "probability_matrix = form_parameter_matrix(total_word_counts, 1)\n",
    "def get_emails_with_highest_lowest_prob(prob_matrix, mail_set, mail_prob_set):\n",
    "    doc_types = ['Medicine', 'Space', 'Cryptography', 'Electronics']\n",
    "    results = []\n",
    "    for idx in range(prob_matrix.shape[0]):\n",
    "        prob_list = []\n",
    "        for i in range(mail_set.shape[0]):\n",
    "            email_prob_const = np.sum(np.multiply(np.log(prob_matrix[idx]), mail_set[i])) + mail_prob_set[idx]\n",
    "            prob_list.append((email_prob_const, i, idx))\n",
    "            prob_list = sorted(prob_list, key = operator.itemgetter(0))\n",
    "        results.append(prob_list)\n",
    "    return results\n",
    "def get_max_min_mail_indices(result_matrix):\n",
    "    min_max = []\n",
    "    for idx in range(len(result_matrix)):\n",
    "        min_max.append((result_matrix[idx][0][1], result_matrix[idx][len(result_matrix[idx]) - 1][1]))\n",
    "    return min_max\n",
    "mail_probs = [p_medicine, p_space, p_cryp, p_elec]\n",
    "result = get_emails_with_highest_lowest_prob(probability_matrix, test_features, mail_probs)\n",
    "get_max_min_mail_indices(result)"
   ]
  },
  {
   "cell_type": "code",
   "execution_count": null,
   "metadata": {},
   "outputs": [
    {
     "name": "stdout",
     "output_type": "stream",
     "text": [
      "[[0.00000000e+00 0.00000000e+00 0.00000000e+00 ... 1.40411405e-04\n",
      "  0.00000000e+00 0.00000000e+00]\n",
      " [0.00000000e+00 0.00000000e+00 0.00000000e+00 ... 3.80843569e-05\n",
      "  0.00000000e+00 0.00000000e+00]\n",
      " [0.00000000e+00 0.00000000e+00 0.00000000e+00 ... 8.93663035e-05\n",
      "  8.93663035e-06 0.00000000e+00]\n",
      " [0.00000000e+00 3.27091340e-05 0.00000000e+00 ... 1.63545670e-05\n",
      "  0.00000000e+00 0.00000000e+00]]\n",
      "[[[0, 7, 7], [575, 200, 775], [1, 9, 10], [0, 8, 8]], 0.28]\n"
     ]
    }
   ],
   "source": [
    "def main():\n",
    "    total_words = compute_total_word_counts(medicine_train, space_train, cryp_train, elec_train)\n",
    "    MLE_parameters = form_parameter_matrix(total_words, 0)\n",
    "    print(MLE_parameters) # Gives the test results of MLE estimator\n",
    "    print(analysis(test_features, test_labels, MLE_parameters)) # You may see the MLE test results this way\n",
    "    MAP_parameters = form_parameter_matrix(total_words, 1)\n",
    "    print(analysis(test_features, test_labels, MAP_parameters)) # You may see the MAP test results this way\n",
    "    # The graphing part is not included in the main method as it works in the cell manner\n",
    "main()"
   ]
  },
  {
   "cell_type": "code",
   "execution_count": null,
   "metadata": {},
   "outputs": [],
   "source": []
  }
 ],
 "metadata": {
  "kernelspec": {
   "display_name": "Python 3",
   "language": "python",
   "name": "python3"
  },
  "language_info": {
   "codemirror_mode": {
    "name": "ipython",
    "version": 3
   },
   "file_extension": ".py",
   "mimetype": "text/x-python",
   "name": "python",
   "nbconvert_exporter": "python",
   "pygments_lexer": "ipython3",
   "version": "3.7.3"
  }
 },
 "nbformat": 4,
 "nbformat_minor": 2
}
